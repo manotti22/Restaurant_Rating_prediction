{
 "cells": [
  {
   "cell_type": "code",
   "execution_count": 1,
   "metadata": {},
   "outputs": [],
   "source": [
    "import os\n"
   ]
  },
  {
   "cell_type": "code",
   "execution_count": null,
   "metadata": {},
   "outputs": [],
   "source": []
  },
  {
   "cell_type": "code",
   "execution_count": 2,
   "metadata": {},
   "outputs": [
    {
     "data": {
      "text/plain": [
       "'c:\\\\Users\\\\HPr\\\\Restaurant_Rating_prediction\\\\notebook'"
      ]
     },
     "execution_count": 2,
     "metadata": {},
     "output_type": "execute_result"
    }
   ],
   "source": [
    "os.getcwd()"
   ]
  },
  {
   "cell_type": "code",
   "execution_count": 3,
   "metadata": {},
   "outputs": [],
   "source": [
    "os.chdir(\"c:\\\\Users\\\\HPr\\\\Restaurant_Rating_prediction\")\n"
   ]
  },
  {
   "cell_type": "code",
   "execution_count": 4,
   "metadata": {},
   "outputs": [
    {
     "name": "stdout",
     "output_type": "stream",
     "text": [
      "Requirement already satisfied: pandas in c:\\users\\hpr\\anaconda3\\envs\\rest_rating\\lib\\site-packages (1.1.5)\n",
      "Requirement already satisfied: pytz>=2017.2 in c:\\users\\hpr\\anaconda3\\envs\\rest_rating\\lib\\site-packages (from pandas) (2022.7)\n",
      "Requirement already satisfied: numpy>=1.15.4 in c:\\users\\hpr\\anaconda3\\envs\\rest_rating\\lib\\site-packages (from pandas) (1.16.5)\n",
      "Requirement already satisfied: python-dateutil>=2.7.3 in c:\\users\\hpr\\anaconda3\\envs\\rest_rating\\lib\\site-packages (from pandas) (2.8.2)\n",
      "Requirement already satisfied: six>=1.5 in c:\\users\\hpr\\anaconda3\\envs\\rest_rating\\lib\\site-packages (from python-dateutil>=2.7.3->pandas) (1.16.0)\n",
      "Note: you may need to restart the kernel to use updated packages.\n"
     ]
    }
   ],
   "source": [
    "pip install pandas"
   ]
  },
  {
   "cell_type": "code",
   "execution_count": 5,
   "metadata": {},
   "outputs": [],
   "source": [
    "import pandas as pd\n",
    "csv_file_path=r\"C:\\Users\\HPr\\Restaurant_Rating_prediction\\RestaurantRating\\artifact\\data_ingestion\\2023-01-11-17-12-28\\raw_data\\zom.csv\"\n",
    "RestaurantRating_data_frame=pd.read_csv(csv_file_path)"
   ]
  },
  {
   "cell_type": "code",
   "execution_count": 6,
   "metadata": {},
   "outputs": [
    {
     "data": {
      "text/html": [
       "<div>\n",
       "<style scoped>\n",
       "    .dataframe tbody tr th:only-of-type {\n",
       "        vertical-align: middle;\n",
       "    }\n",
       "\n",
       "    .dataframe tbody tr th {\n",
       "        vertical-align: top;\n",
       "    }\n",
       "\n",
       "    .dataframe thead th {\n",
       "        text-align: right;\n",
       "    }\n",
       "</style>\n",
       "<table border=\"1\" class=\"dataframe\">\n",
       "  <thead>\n",
       "    <tr style=\"text-align: right;\">\n",
       "      <th></th>\n",
       "      <th>Restaurant ID</th>\n",
       "      <th>Restaurant_Name</th>\n",
       "      <th>Country Code</th>\n",
       "      <th>City</th>\n",
       "      <th>Address</th>\n",
       "      <th>Locality</th>\n",
       "      <th>Locality Verbose</th>\n",
       "      <th>lon</th>\n",
       "      <th>lat</th>\n",
       "      <th>Cuisines</th>\n",
       "      <th>...</th>\n",
       "      <th>Currency</th>\n",
       "      <th>Has Table booking</th>\n",
       "      <th>Has Online delivery</th>\n",
       "      <th>Is delivering now</th>\n",
       "      <th>Switch to order menu</th>\n",
       "      <th>Price_Range</th>\n",
       "      <th>Rating</th>\n",
       "      <th>Rating color</th>\n",
       "      <th>Review</th>\n",
       "      <th>Votes</th>\n",
       "    </tr>\n",
       "  </thead>\n",
       "  <tbody>\n",
       "    <tr>\n",
       "      <th>0</th>\n",
       "      <td>6317637</td>\n",
       "      <td>Le Petit Souffle</td>\n",
       "      <td>162</td>\n",
       "      <td>Makati City</td>\n",
       "      <td>Third Floor, Century City Mall, Kalayaan Avenu...</td>\n",
       "      <td>Century City Mall, Poblacion, Makati City</td>\n",
       "      <td>Century City Mall, Poblacion, Makati City, Mak...</td>\n",
       "      <td>121.027535</td>\n",
       "      <td>14.565443</td>\n",
       "      <td>French, Japanese, Desserts</td>\n",
       "      <td>...</td>\n",
       "      <td>Botswana Pula(P)</td>\n",
       "      <td>Yes</td>\n",
       "      <td>No</td>\n",
       "      <td>No</td>\n",
       "      <td>No</td>\n",
       "      <td>3</td>\n",
       "      <td>4.8</td>\n",
       "      <td>Dark Green</td>\n",
       "      <td>Excellent</td>\n",
       "      <td>314</td>\n",
       "    </tr>\n",
       "    <tr>\n",
       "      <th>1</th>\n",
       "      <td>6304287</td>\n",
       "      <td>Izakaya Kikufuji</td>\n",
       "      <td>162</td>\n",
       "      <td>Makati City</td>\n",
       "      <td>Little Tokyo, 2277 Chino Roces Avenue, Legaspi...</td>\n",
       "      <td>Little Tokyo, Legaspi Village, Makati City</td>\n",
       "      <td>Little Tokyo, Legaspi Village, Makati City, Ma...</td>\n",
       "      <td>121.014101</td>\n",
       "      <td>14.553708</td>\n",
       "      <td>Japanese</td>\n",
       "      <td>...</td>\n",
       "      <td>Botswana Pula(P)</td>\n",
       "      <td>Yes</td>\n",
       "      <td>No</td>\n",
       "      <td>No</td>\n",
       "      <td>No</td>\n",
       "      <td>3</td>\n",
       "      <td>4.5</td>\n",
       "      <td>Dark Green</td>\n",
       "      <td>Excellent</td>\n",
       "      <td>591</td>\n",
       "    </tr>\n",
       "    <tr>\n",
       "      <th>2</th>\n",
       "      <td>6300002</td>\n",
       "      <td>Heat - Edsa Shangri-La</td>\n",
       "      <td>162</td>\n",
       "      <td>Mandaluyong City</td>\n",
       "      <td>Edsa Shangri-La, 1 Garden Way, Ortigas, Mandal...</td>\n",
       "      <td>Edsa Shangri-La, Ortigas, Mandaluyong City</td>\n",
       "      <td>Edsa Shangri-La, Ortigas, Mandaluyong City, Ma...</td>\n",
       "      <td>121.056831</td>\n",
       "      <td>14.581404</td>\n",
       "      <td>Seafood, Asian, Filipino, Indian</td>\n",
       "      <td>...</td>\n",
       "      <td>Botswana Pula(P)</td>\n",
       "      <td>Yes</td>\n",
       "      <td>No</td>\n",
       "      <td>No</td>\n",
       "      <td>No</td>\n",
       "      <td>4</td>\n",
       "      <td>4.4</td>\n",
       "      <td>Green</td>\n",
       "      <td>Very Good</td>\n",
       "      <td>270</td>\n",
       "    </tr>\n",
       "    <tr>\n",
       "      <th>3</th>\n",
       "      <td>6318506</td>\n",
       "      <td>Ooma</td>\n",
       "      <td>162</td>\n",
       "      <td>Mandaluyong City</td>\n",
       "      <td>Third Floor, Mega Fashion Hall, SM Megamall, O...</td>\n",
       "      <td>SM Megamall, Ortigas, Mandaluyong City</td>\n",
       "      <td>SM Megamall, Ortigas, Mandaluyong City, Mandal...</td>\n",
       "      <td>121.056475</td>\n",
       "      <td>14.585318</td>\n",
       "      <td>Japanese, Sushi</td>\n",
       "      <td>...</td>\n",
       "      <td>Botswana Pula(P)</td>\n",
       "      <td>No</td>\n",
       "      <td>No</td>\n",
       "      <td>No</td>\n",
       "      <td>No</td>\n",
       "      <td>4</td>\n",
       "      <td>4.9</td>\n",
       "      <td>Dark Green</td>\n",
       "      <td>Excellent</td>\n",
       "      <td>365</td>\n",
       "    </tr>\n",
       "    <tr>\n",
       "      <th>4</th>\n",
       "      <td>6314302</td>\n",
       "      <td>Sambo Kojin</td>\n",
       "      <td>162</td>\n",
       "      <td>Mandaluyong City</td>\n",
       "      <td>Third Floor, Mega Atrium, SM Megamall, Ortigas...</td>\n",
       "      <td>SM Megamall, Ortigas, Mandaluyong City</td>\n",
       "      <td>SM Megamall, Ortigas, Mandaluyong City, Mandal...</td>\n",
       "      <td>121.057508</td>\n",
       "      <td>14.584450</td>\n",
       "      <td>Japanese, Korean</td>\n",
       "      <td>...</td>\n",
       "      <td>Botswana Pula(P)</td>\n",
       "      <td>Yes</td>\n",
       "      <td>No</td>\n",
       "      <td>No</td>\n",
       "      <td>No</td>\n",
       "      <td>4</td>\n",
       "      <td>4.8</td>\n",
       "      <td>Dark Green</td>\n",
       "      <td>Excellent</td>\n",
       "      <td>229</td>\n",
       "    </tr>\n",
       "    <tr>\n",
       "      <th>5</th>\n",
       "      <td>18189371</td>\n",
       "      <td>Din Tai Fung</td>\n",
       "      <td>162</td>\n",
       "      <td>Mandaluyong City</td>\n",
       "      <td>Ground Floor, Mega Fashion Hall, SM Megamall, ...</td>\n",
       "      <td>SM Megamall, Ortigas, Mandaluyong City</td>\n",
       "      <td>SM Megamall, Ortigas, Mandaluyong City, Mandal...</td>\n",
       "      <td>121.056314</td>\n",
       "      <td>14.583764</td>\n",
       "      <td>Chinese</td>\n",
       "      <td>...</td>\n",
       "      <td>Botswana Pula(P)</td>\n",
       "      <td>No</td>\n",
       "      <td>No</td>\n",
       "      <td>No</td>\n",
       "      <td>No</td>\n",
       "      <td>3</td>\n",
       "      <td>4.4</td>\n",
       "      <td>Green</td>\n",
       "      <td>Very Good</td>\n",
       "      <td>336</td>\n",
       "    </tr>\n",
       "    <tr>\n",
       "      <th>6</th>\n",
       "      <td>6300781</td>\n",
       "      <td>Buffet 101</td>\n",
       "      <td>162</td>\n",
       "      <td>Pasay City</td>\n",
       "      <td>Building K, SM By The Bay, Sunset Boulevard, M...</td>\n",
       "      <td>SM by the Bay, Mall of Asia Complex, Pasay City</td>\n",
       "      <td>SM by the Bay, Mall of Asia Complex, Pasay Cit...</td>\n",
       "      <td>120.979667</td>\n",
       "      <td>14.531333</td>\n",
       "      <td>Asian, European</td>\n",
       "      <td>...</td>\n",
       "      <td>Botswana Pula(P)</td>\n",
       "      <td>Yes</td>\n",
       "      <td>No</td>\n",
       "      <td>No</td>\n",
       "      <td>No</td>\n",
       "      <td>4</td>\n",
       "      <td>4.0</td>\n",
       "      <td>Green</td>\n",
       "      <td>Very Good</td>\n",
       "      <td>520</td>\n",
       "    </tr>\n",
       "    <tr>\n",
       "      <th>7</th>\n",
       "      <td>6301290</td>\n",
       "      <td>Vikings</td>\n",
       "      <td>162</td>\n",
       "      <td>Pasay City</td>\n",
       "      <td>Building B, By The Bay, Seaside Boulevard, Mal...</td>\n",
       "      <td>SM by the Bay, Mall of Asia Complex, Pasay City</td>\n",
       "      <td>SM by the Bay, Mall of Asia Complex, Pasay Cit...</td>\n",
       "      <td>120.979333</td>\n",
       "      <td>14.540000</td>\n",
       "      <td>Seafood, Filipino, Asian, European</td>\n",
       "      <td>...</td>\n",
       "      <td>Botswana Pula(P)</td>\n",
       "      <td>Yes</td>\n",
       "      <td>No</td>\n",
       "      <td>No</td>\n",
       "      <td>No</td>\n",
       "      <td>4</td>\n",
       "      <td>4.2</td>\n",
       "      <td>Green</td>\n",
       "      <td>Very Good</td>\n",
       "      <td>677</td>\n",
       "    </tr>\n",
       "    <tr>\n",
       "      <th>8</th>\n",
       "      <td>6300010</td>\n",
       "      <td>Spiral - Sofitel Philippine Plaza Manila</td>\n",
       "      <td>162</td>\n",
       "      <td>Pasay City</td>\n",
       "      <td>Plaza Level, Sofitel Philippine Plaza Manila, ...</td>\n",
       "      <td>Sofitel Philippine Plaza Manila, Pasay City</td>\n",
       "      <td>Sofitel Philippine Plaza Manila, Pasay City, P...</td>\n",
       "      <td>120.980090</td>\n",
       "      <td>14.552990</td>\n",
       "      <td>European, Asian, Indian</td>\n",
       "      <td>...</td>\n",
       "      <td>Botswana Pula(P)</td>\n",
       "      <td>Yes</td>\n",
       "      <td>No</td>\n",
       "      <td>No</td>\n",
       "      <td>No</td>\n",
       "      <td>4</td>\n",
       "      <td>4.9</td>\n",
       "      <td>Dark Green</td>\n",
       "      <td>Excellent</td>\n",
       "      <td>621</td>\n",
       "    </tr>\n",
       "    <tr>\n",
       "      <th>9</th>\n",
       "      <td>6314987</td>\n",
       "      <td>Locavore</td>\n",
       "      <td>162</td>\n",
       "      <td>Pasig City</td>\n",
       "      <td>Brixton Technology Center, 10 Brixton Street, ...</td>\n",
       "      <td>Kapitolyo</td>\n",
       "      <td>Kapitolyo, Pasig City</td>\n",
       "      <td>121.056532</td>\n",
       "      <td>14.572041</td>\n",
       "      <td>Filipino</td>\n",
       "      <td>...</td>\n",
       "      <td>Botswana Pula(P)</td>\n",
       "      <td>Yes</td>\n",
       "      <td>No</td>\n",
       "      <td>No</td>\n",
       "      <td>No</td>\n",
       "      <td>3</td>\n",
       "      <td>4.8</td>\n",
       "      <td>Dark Green</td>\n",
       "      <td>Excellent</td>\n",
       "      <td>532</td>\n",
       "    </tr>\n",
       "    <tr>\n",
       "      <th>10</th>\n",
       "      <td>6309903</td>\n",
       "      <td>Silantro Fil-Mex</td>\n",
       "      <td>162</td>\n",
       "      <td>Pasig City</td>\n",
       "      <td>75 East Capitol Drive, Kapitolyo, Pasig City</td>\n",
       "      <td>Kapitolyo</td>\n",
       "      <td>Kapitolyo, Pasig City</td>\n",
       "      <td>121.057916</td>\n",
       "      <td>14.567689</td>\n",
       "      <td>Filipino, Mexican</td>\n",
       "      <td>...</td>\n",
       "      <td>Botswana Pula(P)</td>\n",
       "      <td>No</td>\n",
       "      <td>No</td>\n",
       "      <td>No</td>\n",
       "      <td>No</td>\n",
       "      <td>3</td>\n",
       "      <td>4.9</td>\n",
       "      <td>Dark Green</td>\n",
       "      <td>Excellent</td>\n",
       "      <td>1070</td>\n",
       "    </tr>\n",
       "    <tr>\n",
       "      <th>11</th>\n",
       "      <td>6309455</td>\n",
       "      <td>Mad Mark's Creamery &amp; Good Eats</td>\n",
       "      <td>162</td>\n",
       "      <td>Pasig City</td>\n",
       "      <td>23 East Capitol Drive, Kapitolyo, Pasig City</td>\n",
       "      <td>Kapitolyo</td>\n",
       "      <td>Kapitolyo, Pasig City</td>\n",
       "      <td>121.060820</td>\n",
       "      <td>14.570849</td>\n",
       "      <td>American, Ice Cream, Desserts</td>\n",
       "      <td>...</td>\n",
       "      <td>Botswana Pula(P)</td>\n",
       "      <td>Yes</td>\n",
       "      <td>No</td>\n",
       "      <td>No</td>\n",
       "      <td>No</td>\n",
       "      <td>3</td>\n",
       "      <td>4.2</td>\n",
       "      <td>Green</td>\n",
       "      <td>Very Good</td>\n",
       "      <td>488</td>\n",
       "    </tr>\n",
       "  </tbody>\n",
       "</table>\n",
       "<p>12 rows × 21 columns</p>\n",
       "</div>"
      ],
      "text/plain": [
       "    Restaurant ID                           Restaurant_Name  Country Code  \\\n",
       "0         6317637                          Le Petit Souffle           162   \n",
       "1         6304287                          Izakaya Kikufuji           162   \n",
       "2         6300002                    Heat - Edsa Shangri-La           162   \n",
       "3         6318506                                      Ooma           162   \n",
       "4         6314302                               Sambo Kojin           162   \n",
       "5        18189371                              Din Tai Fung           162   \n",
       "6         6300781                                Buffet 101           162   \n",
       "7         6301290                                   Vikings           162   \n",
       "8         6300010  Spiral - Sofitel Philippine Plaza Manila           162   \n",
       "9         6314987                                  Locavore           162   \n",
       "10        6309903                          Silantro Fil-Mex           162   \n",
       "11        6309455           Mad Mark's Creamery & Good Eats           162   \n",
       "\n",
       "                City                                            Address  \\\n",
       "0        Makati City  Third Floor, Century City Mall, Kalayaan Avenu...   \n",
       "1        Makati City  Little Tokyo, 2277 Chino Roces Avenue, Legaspi...   \n",
       "2   Mandaluyong City  Edsa Shangri-La, 1 Garden Way, Ortigas, Mandal...   \n",
       "3   Mandaluyong City  Third Floor, Mega Fashion Hall, SM Megamall, O...   \n",
       "4   Mandaluyong City  Third Floor, Mega Atrium, SM Megamall, Ortigas...   \n",
       "5   Mandaluyong City  Ground Floor, Mega Fashion Hall, SM Megamall, ...   \n",
       "6         Pasay City  Building K, SM By The Bay, Sunset Boulevard, M...   \n",
       "7         Pasay City  Building B, By The Bay, Seaside Boulevard, Mal...   \n",
       "8         Pasay City  Plaza Level, Sofitel Philippine Plaza Manila, ...   \n",
       "9         Pasig City  Brixton Technology Center, 10 Brixton Street, ...   \n",
       "10        Pasig City       75 East Capitol Drive, Kapitolyo, Pasig City   \n",
       "11        Pasig City       23 East Capitol Drive, Kapitolyo, Pasig City   \n",
       "\n",
       "                                           Locality  \\\n",
       "0         Century City Mall, Poblacion, Makati City   \n",
       "1        Little Tokyo, Legaspi Village, Makati City   \n",
       "2        Edsa Shangri-La, Ortigas, Mandaluyong City   \n",
       "3            SM Megamall, Ortigas, Mandaluyong City   \n",
       "4            SM Megamall, Ortigas, Mandaluyong City   \n",
       "5            SM Megamall, Ortigas, Mandaluyong City   \n",
       "6   SM by the Bay, Mall of Asia Complex, Pasay City   \n",
       "7   SM by the Bay, Mall of Asia Complex, Pasay City   \n",
       "8       Sofitel Philippine Plaza Manila, Pasay City   \n",
       "9                                         Kapitolyo   \n",
       "10                                        Kapitolyo   \n",
       "11                                        Kapitolyo   \n",
       "\n",
       "                                     Locality Verbose         lon        lat  \\\n",
       "0   Century City Mall, Poblacion, Makati City, Mak...  121.027535  14.565443   \n",
       "1   Little Tokyo, Legaspi Village, Makati City, Ma...  121.014101  14.553708   \n",
       "2   Edsa Shangri-La, Ortigas, Mandaluyong City, Ma...  121.056831  14.581404   \n",
       "3   SM Megamall, Ortigas, Mandaluyong City, Mandal...  121.056475  14.585318   \n",
       "4   SM Megamall, Ortigas, Mandaluyong City, Mandal...  121.057508  14.584450   \n",
       "5   SM Megamall, Ortigas, Mandaluyong City, Mandal...  121.056314  14.583764   \n",
       "6   SM by the Bay, Mall of Asia Complex, Pasay Cit...  120.979667  14.531333   \n",
       "7   SM by the Bay, Mall of Asia Complex, Pasay Cit...  120.979333  14.540000   \n",
       "8   Sofitel Philippine Plaza Manila, Pasay City, P...  120.980090  14.552990   \n",
       "9                               Kapitolyo, Pasig City  121.056532  14.572041   \n",
       "10                              Kapitolyo, Pasig City  121.057916  14.567689   \n",
       "11                              Kapitolyo, Pasig City  121.060820  14.570849   \n",
       "\n",
       "                              Cuisines  ...          Currency  \\\n",
       "0           French, Japanese, Desserts  ...  Botswana Pula(P)   \n",
       "1                             Japanese  ...  Botswana Pula(P)   \n",
       "2     Seafood, Asian, Filipino, Indian  ...  Botswana Pula(P)   \n",
       "3                      Japanese, Sushi  ...  Botswana Pula(P)   \n",
       "4                     Japanese, Korean  ...  Botswana Pula(P)   \n",
       "5                              Chinese  ...  Botswana Pula(P)   \n",
       "6                      Asian, European  ...  Botswana Pula(P)   \n",
       "7   Seafood, Filipino, Asian, European  ...  Botswana Pula(P)   \n",
       "8              European, Asian, Indian  ...  Botswana Pula(P)   \n",
       "9                             Filipino  ...  Botswana Pula(P)   \n",
       "10                   Filipino, Mexican  ...  Botswana Pula(P)   \n",
       "11       American, Ice Cream, Desserts  ...  Botswana Pula(P)   \n",
       "\n",
       "   Has Table booking Has Online delivery Is delivering now  \\\n",
       "0                Yes                  No                No   \n",
       "1                Yes                  No                No   \n",
       "2                Yes                  No                No   \n",
       "3                 No                  No                No   \n",
       "4                Yes                  No                No   \n",
       "5                 No                  No                No   \n",
       "6                Yes                  No                No   \n",
       "7                Yes                  No                No   \n",
       "8                Yes                  No                No   \n",
       "9                Yes                  No                No   \n",
       "10                No                  No                No   \n",
       "11               Yes                  No                No   \n",
       "\n",
       "   Switch to order menu Price_Range  Rating  Rating color     Review Votes  \n",
       "0                    No           3     4.8    Dark Green  Excellent   314  \n",
       "1                    No           3     4.5    Dark Green  Excellent   591  \n",
       "2                    No           4     4.4         Green  Very Good   270  \n",
       "3                    No           4     4.9    Dark Green  Excellent   365  \n",
       "4                    No           4     4.8    Dark Green  Excellent   229  \n",
       "5                    No           3     4.4         Green  Very Good   336  \n",
       "6                    No           4     4.0         Green  Very Good   520  \n",
       "7                    No           4     4.2         Green  Very Good   677  \n",
       "8                    No           4     4.9    Dark Green  Excellent   621  \n",
       "9                    No           3     4.8    Dark Green  Excellent   532  \n",
       "10                   No           3     4.9    Dark Green  Excellent  1070  \n",
       "11                   No           3     4.2         Green  Very Good   488  \n",
       "\n",
       "[12 rows x 21 columns]"
      ]
     },
     "execution_count": 6,
     "metadata": {},
     "output_type": "execute_result"
    }
   ],
   "source": [
    "RestaurantRating_data_frame.head(12)"
   ]
  },
  {
   "cell_type": "code",
   "execution_count": 7,
   "metadata": {},
   "outputs": [
    {
     "data": {
      "text/plain": [
       "(9551,)"
      ]
     },
     "execution_count": 7,
     "metadata": {},
     "output_type": "execute_result"
    }
   ],
   "source": [
    "RestaurantRating_data_frame['Rating'].shape\n"
   ]
  },
  {
   "cell_type": "code",
   "execution_count": 8,
   "metadata": {},
   "outputs": [
    {
     "name": "stdout",
     "output_type": "stream",
     "text": [
      "<class 'pandas.core.frame.DataFrame'>\n",
      "RangeIndex: 9551 entries, 0 to 9550\n",
      "Data columns (total 21 columns):\n",
      " #   Column                Non-Null Count  Dtype  \n",
      "---  ------                --------------  -----  \n",
      " 0   Restaurant ID         9551 non-null   int64  \n",
      " 1   Restaurant_Name       9551 non-null   object \n",
      " 2   Country Code          9551 non-null   int64  \n",
      " 3   City                  9551 non-null   object \n",
      " 4   Address               9551 non-null   object \n",
      " 5   Locality              9551 non-null   object \n",
      " 6   Locality Verbose      9551 non-null   object \n",
      " 7   lon                   9551 non-null   float64\n",
      " 8   lat                   9551 non-null   float64\n",
      " 9   Cuisines              9542 non-null   object \n",
      " 10  cost_for_two          9551 non-null   int64  \n",
      " 11  Currency              9551 non-null   object \n",
      " 12  Has Table booking     9551 non-null   object \n",
      " 13  Has Online delivery   9551 non-null   object \n",
      " 14  Is delivering now     9551 non-null   object \n",
      " 15  Switch to order menu  9551 non-null   object \n",
      " 16  Price_Range           9551 non-null   int64  \n",
      " 17  Rating                9551 non-null   float64\n",
      " 18  Rating color          9551 non-null   object \n",
      " 19  Review                9551 non-null   object \n",
      " 20  Votes                 9551 non-null   int64  \n",
      "dtypes: float64(3), int64(5), object(13)\n",
      "memory usage: 1.5+ MB\n"
     ]
    }
   ],
   "source": [
    "RestaurantRating_data_frame.info()"
   ]
  },
  {
   "cell_type": "code",
   "execution_count": 9,
   "metadata": {},
   "outputs": [
    {
     "data": {
      "text/html": [
       "<div>\n",
       "<style scoped>\n",
       "    .dataframe tbody tr th:only-of-type {\n",
       "        vertical-align: middle;\n",
       "    }\n",
       "\n",
       "    .dataframe tbody tr th {\n",
       "        vertical-align: top;\n",
       "    }\n",
       "\n",
       "    .dataframe thead th {\n",
       "        text-align: right;\n",
       "    }\n",
       "</style>\n",
       "<table border=\"1\" class=\"dataframe\">\n",
       "  <thead>\n",
       "    <tr style=\"text-align: right;\">\n",
       "      <th></th>\n",
       "      <th>Restaurant ID</th>\n",
       "      <th>Country Code</th>\n",
       "      <th>lon</th>\n",
       "      <th>lat</th>\n",
       "      <th>cost_for_two</th>\n",
       "      <th>Price_Range</th>\n",
       "      <th>Rating</th>\n",
       "      <th>Votes</th>\n",
       "    </tr>\n",
       "  </thead>\n",
       "  <tbody>\n",
       "    <tr>\n",
       "      <th>count</th>\n",
       "      <td>9.551000e+03</td>\n",
       "      <td>9551.000000</td>\n",
       "      <td>9551.000000</td>\n",
       "      <td>9551.000000</td>\n",
       "      <td>9551.000000</td>\n",
       "      <td>9551.000000</td>\n",
       "      <td>9551.000000</td>\n",
       "      <td>9551.000000</td>\n",
       "    </tr>\n",
       "    <tr>\n",
       "      <th>mean</th>\n",
       "      <td>9.051128e+06</td>\n",
       "      <td>18.365616</td>\n",
       "      <td>64.126574</td>\n",
       "      <td>25.854381</td>\n",
       "      <td>1199.210763</td>\n",
       "      <td>1.804837</td>\n",
       "      <td>2.666370</td>\n",
       "      <td>156.909748</td>\n",
       "    </tr>\n",
       "    <tr>\n",
       "      <th>std</th>\n",
       "      <td>8.791521e+06</td>\n",
       "      <td>56.750546</td>\n",
       "      <td>41.467058</td>\n",
       "      <td>11.007935</td>\n",
       "      <td>16121.183073</td>\n",
       "      <td>0.905609</td>\n",
       "      <td>1.516378</td>\n",
       "      <td>430.169145</td>\n",
       "    </tr>\n",
       "    <tr>\n",
       "      <th>min</th>\n",
       "      <td>5.300000e+01</td>\n",
       "      <td>1.000000</td>\n",
       "      <td>-157.948486</td>\n",
       "      <td>-41.330428</td>\n",
       "      <td>0.000000</td>\n",
       "      <td>1.000000</td>\n",
       "      <td>0.000000</td>\n",
       "      <td>0.000000</td>\n",
       "    </tr>\n",
       "    <tr>\n",
       "      <th>25%</th>\n",
       "      <td>3.019625e+05</td>\n",
       "      <td>1.000000</td>\n",
       "      <td>77.081343</td>\n",
       "      <td>28.478713</td>\n",
       "      <td>250.000000</td>\n",
       "      <td>1.000000</td>\n",
       "      <td>2.500000</td>\n",
       "      <td>5.000000</td>\n",
       "    </tr>\n",
       "    <tr>\n",
       "      <th>50%</th>\n",
       "      <td>6.004089e+06</td>\n",
       "      <td>1.000000</td>\n",
       "      <td>77.191964</td>\n",
       "      <td>28.570469</td>\n",
       "      <td>400.000000</td>\n",
       "      <td>2.000000</td>\n",
       "      <td>3.200000</td>\n",
       "      <td>31.000000</td>\n",
       "    </tr>\n",
       "    <tr>\n",
       "      <th>75%</th>\n",
       "      <td>1.835229e+07</td>\n",
       "      <td>1.000000</td>\n",
       "      <td>77.282006</td>\n",
       "      <td>28.642758</td>\n",
       "      <td>700.000000</td>\n",
       "      <td>2.000000</td>\n",
       "      <td>3.700000</td>\n",
       "      <td>131.000000</td>\n",
       "    </tr>\n",
       "    <tr>\n",
       "      <th>max</th>\n",
       "      <td>1.850065e+07</td>\n",
       "      <td>216.000000</td>\n",
       "      <td>174.832089</td>\n",
       "      <td>55.976980</td>\n",
       "      <td>800000.000000</td>\n",
       "      <td>4.000000</td>\n",
       "      <td>4.900000</td>\n",
       "      <td>10934.000000</td>\n",
       "    </tr>\n",
       "  </tbody>\n",
       "</table>\n",
       "</div>"
      ],
      "text/plain": [
       "       Restaurant ID  Country Code          lon          lat   cost_for_two  \\\n",
       "count   9.551000e+03   9551.000000  9551.000000  9551.000000    9551.000000   \n",
       "mean    9.051128e+06     18.365616    64.126574    25.854381    1199.210763   \n",
       "std     8.791521e+06     56.750546    41.467058    11.007935   16121.183073   \n",
       "min     5.300000e+01      1.000000  -157.948486   -41.330428       0.000000   \n",
       "25%     3.019625e+05      1.000000    77.081343    28.478713     250.000000   \n",
       "50%     6.004089e+06      1.000000    77.191964    28.570469     400.000000   \n",
       "75%     1.835229e+07      1.000000    77.282006    28.642758     700.000000   \n",
       "max     1.850065e+07    216.000000   174.832089    55.976980  800000.000000   \n",
       "\n",
       "       Price_Range       Rating         Votes  \n",
       "count  9551.000000  9551.000000   9551.000000  \n",
       "mean      1.804837     2.666370    156.909748  \n",
       "std       0.905609     1.516378    430.169145  \n",
       "min       1.000000     0.000000      0.000000  \n",
       "25%       1.000000     2.500000      5.000000  \n",
       "50%       2.000000     3.200000     31.000000  \n",
       "75%       2.000000     3.700000    131.000000  \n",
       "max       4.000000     4.900000  10934.000000  "
      ]
     },
     "execution_count": 9,
     "metadata": {},
     "output_type": "execute_result"
    }
   ],
   "source": [
    "RestaurantRating_data_frame.describe()"
   ]
  },
  {
   "cell_type": "code",
   "execution_count": 10,
   "metadata": {},
   "outputs": [
    {
     "data": {
      "text/plain": [
       "Indian Rupees(Rs.)        8652\n",
       "Dollar($)                  482\n",
       "Pounds(��)                  80\n",
       "Brazilian Real(R$)          60\n",
       "Emirati Diram(AED)          60\n",
       "Rand(R)                     60\n",
       "NewZealand($)               40\n",
       "Turkish Lira(TL)            34\n",
       "Botswana Pula(P)            22\n",
       "Indonesian Rupiah(IDR)      21\n",
       "Sri Lankan Rupee(LKR)       20\n",
       "Qatari Rial(QR)             20\n",
       "Name: Currency, dtype: int64"
      ]
     },
     "execution_count": 10,
     "metadata": {},
     "output_type": "execute_result"
    }
   ],
   "source": [
    "RestaurantRating_data_frame['Currency'].value_counts()"
   ]
  },
  {
   "cell_type": "code",
   "execution_count": 11,
   "metadata": {},
   "outputs": [
    {
     "data": {
      "text/plain": [
       "array(['Botswana Pula(P)', 'Brazilian Real(R$)', 'Dollar($)',\n",
       "       'Emirati Diram(AED)', 'Indian Rupees(Rs.)',\n",
       "       'Indonesian Rupiah(IDR)', 'NewZealand($)', 'Pounds(��)',\n",
       "       'Qatari Rial(QR)', 'Rand(R)', 'Sri Lankan Rupee(LKR)',\n",
       "       'Turkish Lira(TL)'], dtype=object)"
      ]
     },
     "execution_count": 11,
     "metadata": {},
     "output_type": "execute_result"
    }
   ],
   "source": [
    "RestaurantRating_data_frame['Currency'].unique()"
   ]
  },
  {
   "cell_type": "code",
   "execution_count": 12,
   "metadata": {},
   "outputs": [
    {
     "data": {
      "text/plain": [
       "array([4.8, 4.5, 4.4, 4.9, 4. , 4.2, 4.3, 3.6, 4.7, 3. , 3.8, 3.7, 3.2,\n",
       "       3.1, 0. , 4.1, 3.3, 4.6, 3.9, 3.4, 3.5, 2.2, 2.9, 2.4, 2.6, 2.8,\n",
       "       2.1, 2.7, 2.5, 1.8, 2. , 2.3, 1.9])"
      ]
     },
     "execution_count": 12,
     "metadata": {},
     "output_type": "execute_result"
    }
   ],
   "source": [
    "RestaurantRating_data_frame['Rating'].unique()"
   ]
  },
  {
   "cell_type": "code",
   "execution_count": 13,
   "metadata": {},
   "outputs": [
    {
     "data": {
      "text/plain": [
       "['Restaurant ID',\n",
       " 'Country Code',\n",
       " 'lon',\n",
       " 'lat',\n",
       " 'cost_for_two',\n",
       " 'Price_Range',\n",
       " 'Rating',\n",
       " 'Votes']"
      ]
     },
     "execution_count": 13,
     "metadata": {},
     "output_type": "execute_result"
    }
   ],
   "source": [
    "numerical_features=[feature for feature in RestaurantRating_data_frame.columns if RestaurantRating_data_frame[feature].dtypes!='O']\n",
    "numerical_features"
   ]
  },
  {
   "cell_type": "code",
   "execution_count": 14,
   "metadata": {},
   "outputs": [
    {
     "data": {
      "text/html": [
       "<div>\n",
       "<style scoped>\n",
       "    .dataframe tbody tr th:only-of-type {\n",
       "        vertical-align: middle;\n",
       "    }\n",
       "\n",
       "    .dataframe tbody tr th {\n",
       "        vertical-align: top;\n",
       "    }\n",
       "\n",
       "    .dataframe thead th {\n",
       "        text-align: right;\n",
       "    }\n",
       "</style>\n",
       "<table border=\"1\" class=\"dataframe\">\n",
       "  <thead>\n",
       "    <tr style=\"text-align: right;\">\n",
       "      <th></th>\n",
       "      <th>count</th>\n",
       "      <th>mean</th>\n",
       "      <th>std</th>\n",
       "      <th>min</th>\n",
       "      <th>25%</th>\n",
       "      <th>50%</th>\n",
       "      <th>75%</th>\n",
       "      <th>max</th>\n",
       "    </tr>\n",
       "  </thead>\n",
       "  <tbody>\n",
       "    <tr>\n",
       "      <th>Restaurant ID</th>\n",
       "      <td>9551.0</td>\n",
       "      <td>9.051128e+06</td>\n",
       "      <td>8.791521e+06</td>\n",
       "      <td>53.000000</td>\n",
       "      <td>301962.500000</td>\n",
       "      <td>6.004089e+06</td>\n",
       "      <td>1.835229e+07</td>\n",
       "      <td>1.850065e+07</td>\n",
       "    </tr>\n",
       "    <tr>\n",
       "      <th>Country Code</th>\n",
       "      <td>9551.0</td>\n",
       "      <td>1.836562e+01</td>\n",
       "      <td>5.675055e+01</td>\n",
       "      <td>1.000000</td>\n",
       "      <td>1.000000</td>\n",
       "      <td>1.000000e+00</td>\n",
       "      <td>1.000000e+00</td>\n",
       "      <td>2.160000e+02</td>\n",
       "    </tr>\n",
       "    <tr>\n",
       "      <th>lon</th>\n",
       "      <td>9551.0</td>\n",
       "      <td>6.412657e+01</td>\n",
       "      <td>4.146706e+01</td>\n",
       "      <td>-157.948486</td>\n",
       "      <td>77.081343</td>\n",
       "      <td>7.719196e+01</td>\n",
       "      <td>7.728201e+01</td>\n",
       "      <td>1.748321e+02</td>\n",
       "    </tr>\n",
       "    <tr>\n",
       "      <th>lat</th>\n",
       "      <td>9551.0</td>\n",
       "      <td>2.585438e+01</td>\n",
       "      <td>1.100794e+01</td>\n",
       "      <td>-41.330428</td>\n",
       "      <td>28.478713</td>\n",
       "      <td>2.857047e+01</td>\n",
       "      <td>2.864276e+01</td>\n",
       "      <td>5.597698e+01</td>\n",
       "    </tr>\n",
       "    <tr>\n",
       "      <th>cost_for_two</th>\n",
       "      <td>9551.0</td>\n",
       "      <td>1.199211e+03</td>\n",
       "      <td>1.612118e+04</td>\n",
       "      <td>0.000000</td>\n",
       "      <td>250.000000</td>\n",
       "      <td>4.000000e+02</td>\n",
       "      <td>7.000000e+02</td>\n",
       "      <td>8.000000e+05</td>\n",
       "    </tr>\n",
       "    <tr>\n",
       "      <th>Price_Range</th>\n",
       "      <td>9551.0</td>\n",
       "      <td>1.804837e+00</td>\n",
       "      <td>9.056088e-01</td>\n",
       "      <td>1.000000</td>\n",
       "      <td>1.000000</td>\n",
       "      <td>2.000000e+00</td>\n",
       "      <td>2.000000e+00</td>\n",
       "      <td>4.000000e+00</td>\n",
       "    </tr>\n",
       "    <tr>\n",
       "      <th>Rating</th>\n",
       "      <td>9551.0</td>\n",
       "      <td>2.666370e+00</td>\n",
       "      <td>1.516378e+00</td>\n",
       "      <td>0.000000</td>\n",
       "      <td>2.500000</td>\n",
       "      <td>3.200000e+00</td>\n",
       "      <td>3.700000e+00</td>\n",
       "      <td>4.900000e+00</td>\n",
       "    </tr>\n",
       "    <tr>\n",
       "      <th>Votes</th>\n",
       "      <td>9551.0</td>\n",
       "      <td>1.569097e+02</td>\n",
       "      <td>4.301691e+02</td>\n",
       "      <td>0.000000</td>\n",
       "      <td>5.000000</td>\n",
       "      <td>3.100000e+01</td>\n",
       "      <td>1.310000e+02</td>\n",
       "      <td>1.093400e+04</td>\n",
       "    </tr>\n",
       "  </tbody>\n",
       "</table>\n",
       "</div>"
      ],
      "text/plain": [
       "                count          mean           std         min            25%  \\\n",
       "Restaurant ID  9551.0  9.051128e+06  8.791521e+06   53.000000  301962.500000   \n",
       "Country Code   9551.0  1.836562e+01  5.675055e+01    1.000000       1.000000   \n",
       "lon            9551.0  6.412657e+01  4.146706e+01 -157.948486      77.081343   \n",
       "lat            9551.0  2.585438e+01  1.100794e+01  -41.330428      28.478713   \n",
       "cost_for_two   9551.0  1.199211e+03  1.612118e+04    0.000000     250.000000   \n",
       "Price_Range    9551.0  1.804837e+00  9.056088e-01    1.000000       1.000000   \n",
       "Rating         9551.0  2.666370e+00  1.516378e+00    0.000000       2.500000   \n",
       "Votes          9551.0  1.569097e+02  4.301691e+02    0.000000       5.000000   \n",
       "\n",
       "                        50%           75%           max  \n",
       "Restaurant ID  6.004089e+06  1.835229e+07  1.850065e+07  \n",
       "Country Code   1.000000e+00  1.000000e+00  2.160000e+02  \n",
       "lon            7.719196e+01  7.728201e+01  1.748321e+02  \n",
       "lat            2.857047e+01  2.864276e+01  5.597698e+01  \n",
       "cost_for_two   4.000000e+02  7.000000e+02  8.000000e+05  \n",
       "Price_Range    2.000000e+00  2.000000e+00  4.000000e+00  \n",
       "Rating         3.200000e+00  3.700000e+00  4.900000e+00  \n",
       "Votes          3.100000e+01  1.310000e+02  1.093400e+04  "
      ]
     },
     "execution_count": 14,
     "metadata": {},
     "output_type": "execute_result"
    }
   ],
   "source": [
    "# summary of numerical columns\n",
    "RestaurantRating_data_frame.describe().T"
   ]
  },
  {
   "cell_type": "code",
   "execution_count": 15,
   "metadata": {},
   "outputs": [
    {
     "data": {
      "text/plain": [
       "Restaurant ID           0\n",
       "Restaurant_Name         0\n",
       "Country Code            0\n",
       "City                    0\n",
       "Address                 0\n",
       "Locality                0\n",
       "Locality Verbose        0\n",
       "lon                     0\n",
       "lat                     0\n",
       "Cuisines                9\n",
       "cost_for_two            0\n",
       "Currency                0\n",
       "Has Table booking       0\n",
       "Has Online delivery     0\n",
       "Is delivering now       0\n",
       "Switch to order menu    0\n",
       "Price_Range             0\n",
       "Rating                  0\n",
       "Rating color            0\n",
       "Review                  0\n",
       "Votes                   0\n",
       "dtype: int64"
      ]
     },
     "execution_count": 15,
     "metadata": {},
     "output_type": "execute_result"
    }
   ],
   "source": [
    "RestaurantRating_data_frame.isnull().sum()"
   ]
  },
  {
   "cell_type": "code",
   "execution_count": 16,
   "metadata": {},
   "outputs": [
    {
     "data": {
      "text/plain": [
       "Restaurant ID             int64\n",
       "Restaurant_Name          object\n",
       "Country Code              int64\n",
       "City                     object\n",
       "Address                  object\n",
       "Locality                 object\n",
       "Locality Verbose         object\n",
       "lon                     float64\n",
       "lat                     float64\n",
       "Cuisines                 object\n",
       "cost_for_two              int64\n",
       "Currency                 object\n",
       "Has Table booking        object\n",
       "Has Online delivery      object\n",
       "Is delivering now        object\n",
       "Switch to order menu     object\n",
       "Price_Range               int64\n",
       "Rating                  float64\n",
       "Rating color             object\n",
       "Review                   object\n",
       "Votes                     int64\n",
       "dtype: object"
      ]
     },
     "execution_count": 16,
     "metadata": {},
     "output_type": "execute_result"
    }
   ],
   "source": [
    "RestaurantRating_data_frame.dtypes"
   ]
  },
  {
   "cell_type": "code",
   "execution_count": 17,
   "metadata": {},
   "outputs": [
    {
     "data": {
      "text/plain": [
       "0"
      ]
     },
     "execution_count": 17,
     "metadata": {},
     "output_type": "execute_result"
    }
   ],
   "source": [
    "#Removing the Duplicates\n",
    "RestaurantRating_data_frame.duplicated().sum()\n"
   ]
  },
  {
   "cell_type": "code",
   "execution_count": 18,
   "metadata": {},
   "outputs": [],
   "source": [
    "RestaurantRating_data_frame.drop_duplicates(inplace=True)"
   ]
  },
  {
   "cell_type": "code",
   "execution_count": 19,
   "metadata": {},
   "outputs": [
    {
     "data": {
      "text/plain": [
       "(9551, 21)"
      ]
     },
     "execution_count": 19,
     "metadata": {},
     "output_type": "execute_result"
    }
   ],
   "source": [
    "RestaurantRating_data_frame.shape"
   ]
  },
  {
   "cell_type": "code",
   "execution_count": 20,
   "metadata": {},
   "outputs": [
    {
     "name": "stdout",
     "output_type": "stream",
     "text": [
      "Requirement already satisfied: seaborn in c:\\users\\hpr\\anaconda3\\envs\\rest_rating\\lib\\site-packages (0.12.2)\n",
      "Requirement already satisfied: matplotlib!=3.6.1,>=3.1 in c:\\users\\hpr\\anaconda3\\envs\\rest_rating\\lib\\site-packages (from seaborn) (3.5.3)\n",
      "Collecting numpy!=1.24.0,>=1.17\n",
      "  Using cached numpy-1.21.6-cp37-cp37m-win_amd64.whl (14.0 MB)\n",
      "Requirement already satisfied: typing_extensions in c:\\users\\hpr\\anaconda3\\envs\\rest_rating\\lib\\site-packages (from seaborn) (4.4.0)\n",
      "Requirement already satisfied: pandas>=0.25 in c:\\users\\hpr\\anaconda3\\envs\\rest_rating\\lib\\site-packages (from seaborn) (1.1.5)\n",
      "Requirement already satisfied: python-dateutil>=2.7 in c:\\users\\hpr\\anaconda3\\envs\\rest_rating\\lib\\site-packages (from matplotlib!=3.6.1,>=3.1->seaborn) (2.8.2)\n",
      "Requirement already satisfied: kiwisolver>=1.0.1 in c:\\users\\hpr\\anaconda3\\envs\\rest_rating\\lib\\site-packages (from matplotlib!=3.6.1,>=3.1->seaborn) (1.4.4)\n",
      "Requirement already satisfied: pyparsing>=2.2.1 in c:\\users\\hpr\\anaconda3\\envs\\rest_rating\\lib\\site-packages (from matplotlib!=3.6.1,>=3.1->seaborn) (3.0.9)\n",
      "Requirement already satisfied: packaging>=20.0 in c:\\users\\hpr\\anaconda3\\envs\\rest_rating\\lib\\site-packages (from matplotlib!=3.6.1,>=3.1->seaborn) (23.0)\n",
      "Requirement already satisfied: pillow>=6.2.0 in c:\\users\\hpr\\anaconda3\\envs\\rest_rating\\lib\\site-packages (from matplotlib!=3.6.1,>=3.1->seaborn) (9.4.0)\n",
      "Requirement already satisfied: fonttools>=4.22.0 in c:\\users\\hpr\\anaconda3\\envs\\rest_rating\\lib\\site-packages (from matplotlib!=3.6.1,>=3.1->seaborn) (4.38.0)\n",
      "Requirement already satisfied: cycler>=0.10 in c:\\users\\hpr\\anaconda3\\envs\\rest_rating\\lib\\site-packages (from matplotlib!=3.6.1,>=3.1->seaborn) (0.11.0)\n",
      "Requirement already satisfied: pytz>=2017.2 in c:\\users\\hpr\\anaconda3\\envs\\rest_rating\\lib\\site-packages (from pandas>=0.25->seaborn) (2022.7)\n",
      "Requirement already satisfied: six>=1.5 in c:\\users\\hpr\\anaconda3\\envs\\rest_rating\\lib\\site-packages (from python-dateutil>=2.7->matplotlib!=3.6.1,>=3.1->seaborn) (1.16.0)\n",
      "Installing collected packages: numpy\n",
      "  Attempting uninstall: numpy\n",
      "    Found existing installation: numpy 1.16.5\n",
      "    Uninstalling numpy-1.16.5:\n",
      "      Successfully uninstalled numpy-1.16.5\n",
      "Note: you may need to restart the kernel to use updated packages.\n"
     ]
    },
    {
     "name": "stderr",
     "output_type": "stream",
     "text": [
      "ERROR: Could not install packages due to an OSError: [WinError 5] Access is denied: 'c:\\\\users\\\\hpr\\\\anaconda3\\\\envs\\\\rest_rating\\\\lib\\\\site-packages\\\\~-mpy\\\\.libs\\\\libopenblas.TXA6YQSD3GCQQC22GEQ54J2UDCXDXHWN.gfortran-win_amd64.dll'\n",
      "Consider using the `--user` option or check the permissions.\n",
      "\n"
     ]
    }
   ],
   "source": [
    "pip install seaborn"
   ]
  },
  {
   "cell_type": "code",
   "execution_count": 21,
   "metadata": {},
   "outputs": [
    {
     "data": {
      "text/plain": [
       "['Restaurant ID',\n",
       " 'Country Code',\n",
       " 'lon',\n",
       " 'lat',\n",
       " 'cost_for_two',\n",
       " 'Price_Range',\n",
       " 'Rating',\n",
       " 'Votes']"
      ]
     },
     "execution_count": 21,
     "metadata": {},
     "output_type": "execute_result"
    }
   ],
   "source": [
    "numerical_features=[feature for feature in RestaurantRating_data_frame.columns if RestaurantRating_data_frame[feature].dtypes!='O']\n",
    "numerical_features"
   ]
  },
  {
   "cell_type": "code",
   "execution_count": 22,
   "metadata": {},
   "outputs": [
    {
     "data": {
      "text/plain": [
       "'c:\\\\Users\\\\HPr\\\\Restaurant_Rating_prediction'"
      ]
     },
     "execution_count": 22,
     "metadata": {},
     "output_type": "execute_result"
    }
   ],
   "source": [
    "import os\n",
    "os.getcwd()"
   ]
  },
  {
   "cell_type": "code",
   "execution_count": 23,
   "metadata": {},
   "outputs": [],
   "source": [
    "model_config_file = r\"C:\\Users\\HPr\\Restaurant_Rating_prediction\\config\\model.yaml\""
   ]
  },
  {
   "cell_type": "code",
   "execution_count": 24,
   "metadata": {},
   "outputs": [],
   "source": [
    "from RestaurantRating.entity.model_factory import ModelFactory"
   ]
  },
  {
   "cell_type": "code",
   "execution_count": 25,
   "metadata": {},
   "outputs": [],
   "source": [
    "model_factory = ModelFactory(model_config_path=model_config_file)"
   ]
  },
  {
   "cell_type": "code",
   "execution_count": 26,
   "metadata": {},
   "outputs": [
    {
     "name": "stdout",
     "output_type": "stream",
     "text": [
      "{'fit_intercept': True}\n",
      "{'min_samples_leaf': 2}\n"
     ]
    }
   ],
   "source": [
    "model_list= model_factory.get_initialized_model_list()\n"
   ]
  },
  {
   "cell_type": "code",
   "execution_count": 27,
   "metadata": {},
   "outputs": [
    {
     "data": {
      "text/plain": [
       "2"
      ]
     },
     "execution_count": 27,
     "metadata": {},
     "output_type": "execute_result"
    }
   ],
   "source": [
    "len(model_list)"
   ]
  },
  {
   "cell_type": "code",
   "execution_count": 28,
   "metadata": {},
   "outputs": [
    {
     "data": {
      "text/plain": [
       "InitializedModelDetail(model_serial_number='module_0', model=LinearRegression(), param_grid_search={'fit_intercept': [True, False]}, model_name='sklearn.linear_model.LinearRegression')"
      ]
     },
     "execution_count": 28,
     "metadata": {},
     "output_type": "execute_result"
    }
   ],
   "source": [
    "model_list[0]"
   ]
  },
  {
   "cell_type": "code",
   "execution_count": 29,
   "metadata": {},
   "outputs": [
    {
     "data": {
      "text/plain": [
       "InitializedModelDetail(model_serial_number='module_1', model=RandomForestRegressor(min_samples_leaf=2), param_grid_search={'min_samples_leaf': [2]}, model_name='sklearn.ensemble.RandomForestRegressor')"
      ]
     },
     "execution_count": 29,
     "metadata": {},
     "output_type": "execute_result"
    }
   ],
   "source": [
    "model_list[1]"
   ]
  },
  {
   "cell_type": "code",
   "execution_count": 30,
   "metadata": {},
   "outputs": [],
   "source": [
    "from RestaurantRating.util.util import load_numpy_array_data"
   ]
  },
  {
   "cell_type": "code",
   "execution_count": 31,
   "metadata": {},
   "outputs": [],
   "source": [
    "data_file_path= r\"C:\\Users\\HPr\\Restaurant_Rating_prediction\\RestaurantRating\\artifact\\data_transformation\\2023-01-17-18-44-16\\transformed_data\\train\\Zomato_csv.npz\""
   ]
  },
  {
   "cell_type": "code",
   "execution_count": 32,
   "metadata": {},
   "outputs": [
    {
     "data": {
      "text/plain": [
       "'C:\\\\Users\\\\HPr\\\\Restaurant_Rating_prediction\\\\RestaurantRating\\\\artifact\\\\data_transformation\\\\2023-01-17-18-44-16\\\\transformed_data\\\\train\\\\Zomato_csv.npz'"
      ]
     },
     "execution_count": 32,
     "metadata": {},
     "output_type": "execute_result"
    }
   ],
   "source": [
    "data_file_path"
   ]
  },
  {
   "cell_type": "code",
   "execution_count": 33,
   "metadata": {},
   "outputs": [
    {
     "name": "stdout",
     "output_type": "stream",
     "text": [
      "Collecting numpy==1.16.1\n",
      "  Using cached numpy-1.16.1-cp37-cp37m-win_amd64.whl (11.9 MB)\n",
      "Installing collected packages: numpy\n",
      "  Attempting uninstall: numpy\n",
      "    Found existing installation: numpy 1.21.6\n",
      "    Uninstalling numpy-1.21.6:\n",
      "      Successfully uninstalled numpy-1.21.6\n",
      "Successfully installed numpy-1.16.1\n",
      "Note: you may need to restart the kernel to use updated packages.\n"
     ]
    },
    {
     "name": "stderr",
     "output_type": "stream",
     "text": [
      "ERROR: pip's dependency resolver does not currently take into account all the packages that are installed. This behaviour is the source of the following dependency conflicts.\n",
      "statsmodels 0.13.5 requires numpy>=1.17; python_version != \"3.10\" or platform_system != \"Windows\" or platform_python_implementation == \"PyPy\", but you have numpy 1.16.1 which is incompatible.\n",
      "seaborn 0.12.2 requires numpy!=1.24.0,>=1.17, but you have numpy 1.16.1 which is incompatible.\n",
      "scipy 1.7.3 requires numpy<1.23.0,>=1.16.5, but you have numpy 1.16.1 which is incompatible.\n",
      "matplotlib 3.5.3 requires numpy>=1.17, but you have numpy 1.16.1 which is incompatible.\n",
      "evidently 0.2.1 requires numpy>=1.19.5, but you have numpy 1.16.1 which is incompatible.\n"
     ]
    }
   ],
   "source": [
    "pip install numpy==1.16.1\n"
   ]
  },
  {
   "cell_type": "code",
   "execution_count": 34,
   "metadata": {},
   "outputs": [],
   "source": [
    "import numpy as np\n",
    "data = load_numpy_array_data(data_file_path)"
   ]
  },
  {
   "cell_type": "code",
   "execution_count": 35,
   "metadata": {},
   "outputs": [],
   "source": [
    "x,y=data[:,:-1],data[:,-1]\n"
   ]
  },
  {
   "cell_type": "code",
   "execution_count": 36,
   "metadata": {},
   "outputs": [
    {
     "name": "stdout",
     "output_type": "stream",
     "text": [
      "{'fit_intercept': True}\n",
      "{'min_samples_leaf': 2}\n",
      "{'cv': 2, 'verbose': 2}\n",
      "Fitting 2 folds for each of 2 candidates, totalling 4 fits\n"
     ]
    },
    {
     "ename": "RestaurantRatingException",
     "evalue": "\n        Error occured in script: \n        [ c:\\Users\\HPr\\Restaurant_Rating_prediction\\RestaurantRating\\entity\\model_factory.py ] at \n        try block line number: [366] and exception block line number: [371] \n        error message: [\n        Error occured in script: \n        [ c:\\Users\\HPr\\Restaurant_Rating_prediction\\RestaurantRating\\entity\\model_factory.py ] at \n        try block line number: [319] and exception block line number: [324] \n        error message: [\n        Error occured in script: \n        [ c:\\Users\\HPr\\Restaurant_Rating_prediction\\RestaurantRating\\entity\\model_factory.py ] at \n        try block line number: [304] and exception block line number: [306] \n        error message: [\n        Error occured in script: \n        [ c:\\Users\\HPr\\Restaurant_Rating_prediction\\RestaurantRating\\entity\\model_factory.py ] at \n        try block line number: [239] and exception block line number: [250] \n        error message: [Cannot have number of splits n_splits=2 greater than the number of samples: n_samples=1.]\n        ]\n        ]\n        ]\n        ",
     "output_type": "error",
     "traceback": [
      "\u001b[1;31m---------------------------------------------------------------------------\u001b[0m",
      "\u001b[1;31mValueError\u001b[0m                                Traceback (most recent call last)",
      "\u001b[1;32mc:\\Users\\HPr\\Restaurant_Rating_prediction\\RestaurantRating\\entity\\model_factory.py\u001b[0m in \u001b[0;36mexecute_grid_search_operation\u001b[1;34m(self, initialized_model, input_feature, output_feature)\u001b[0m\n\u001b[0;32m    238\u001b[0m             \u001b[0mlogging\u001b[0m\u001b[1;33m.\u001b[0m\u001b[0minfo\u001b[0m\u001b[1;33m(\u001b[0m\u001b[0mmessage\u001b[0m\u001b[1;33m)\u001b[0m\u001b[1;33m\u001b[0m\u001b[1;33m\u001b[0m\u001b[0m\n\u001b[1;32m--> 239\u001b[1;33m             \u001b[0mgrid_search_cv\u001b[0m\u001b[1;33m.\u001b[0m\u001b[0mfit\u001b[0m\u001b[1;33m(\u001b[0m\u001b[0minput_feature\u001b[0m\u001b[1;33m,\u001b[0m \u001b[0moutput_feature\u001b[0m\u001b[1;33m)\u001b[0m\u001b[1;33m\u001b[0m\u001b[1;33m\u001b[0m\u001b[0m\n\u001b[0m\u001b[0;32m    240\u001b[0m             \u001b[0mmessage\u001b[0m \u001b[1;33m=\u001b[0m \u001b[1;34mf'{\">>\"* 30} f\"Training {type(initialized_model.model).__name__}\" completed {\"<<\"*30}'\u001b[0m\u001b[1;33m\u001b[0m\u001b[1;33m\u001b[0m\u001b[0m\n",
      "\u001b[1;32mc:\\Users\\HPr\\anaconda3\\envs\\rest_rating\\lib\\site-packages\\sklearn\\model_selection\\_search.py\u001b[0m in \u001b[0;36mfit\u001b[1;34m(self, X, y, groups, **fit_params)\u001b[0m\n\u001b[0;32m    890\u001b[0m \u001b[1;33m\u001b[0m\u001b[0m\n\u001b[1;32m--> 891\u001b[1;33m             \u001b[0mself\u001b[0m\u001b[1;33m.\u001b[0m\u001b[0m_run_search\u001b[0m\u001b[1;33m(\u001b[0m\u001b[0mevaluate_candidates\u001b[0m\u001b[1;33m)\u001b[0m\u001b[1;33m\u001b[0m\u001b[1;33m\u001b[0m\u001b[0m\n\u001b[0m\u001b[0;32m    892\u001b[0m \u001b[1;33m\u001b[0m\u001b[0m\n",
      "\u001b[1;32mc:\\Users\\HPr\\anaconda3\\envs\\rest_rating\\lib\\site-packages\\sklearn\\model_selection\\_search.py\u001b[0m in \u001b[0;36m_run_search\u001b[1;34m(self, evaluate_candidates)\u001b[0m\n\u001b[0;32m   1391\u001b[0m         \u001b[1;34m\"\"\"Search all candidates in param_grid\"\"\"\u001b[0m\u001b[1;33m\u001b[0m\u001b[1;33m\u001b[0m\u001b[0m\n\u001b[1;32m-> 1392\u001b[1;33m         \u001b[0mevaluate_candidates\u001b[0m\u001b[1;33m(\u001b[0m\u001b[0mParameterGrid\u001b[0m\u001b[1;33m(\u001b[0m\u001b[0mself\u001b[0m\u001b[1;33m.\u001b[0m\u001b[0mparam_grid\u001b[0m\u001b[1;33m)\u001b[0m\u001b[1;33m)\u001b[0m\u001b[1;33m\u001b[0m\u001b[1;33m\u001b[0m\u001b[0m\n\u001b[0m\u001b[0;32m   1393\u001b[0m \u001b[1;33m\u001b[0m\u001b[0m\n",
      "\u001b[1;32mc:\\Users\\HPr\\anaconda3\\envs\\rest_rating\\lib\\site-packages\\sklearn\\model_selection\\_search.py\u001b[0m in \u001b[0;36mevaluate_candidates\u001b[1;34m(candidate_params, cv, more_results)\u001b[0m\n\u001b[0;32m    850\u001b[0m                     for (cand_idx, parameters), (split_idx, (train, test)) in product(\n\u001b[1;32m--> 851\u001b[1;33m                         \u001b[0menumerate\u001b[0m\u001b[1;33m(\u001b[0m\u001b[0mcandidate_params\u001b[0m\u001b[1;33m)\u001b[0m\u001b[1;33m,\u001b[0m \u001b[0menumerate\u001b[0m\u001b[1;33m(\u001b[0m\u001b[0mcv\u001b[0m\u001b[1;33m.\u001b[0m\u001b[0msplit\u001b[0m\u001b[1;33m(\u001b[0m\u001b[0mX\u001b[0m\u001b[1;33m,\u001b[0m \u001b[0my\u001b[0m\u001b[1;33m,\u001b[0m \u001b[0mgroups\u001b[0m\u001b[1;33m)\u001b[0m\u001b[1;33m)\u001b[0m\u001b[1;33m\u001b[0m\u001b[1;33m\u001b[0m\u001b[0m\n\u001b[0m\u001b[0;32m    852\u001b[0m                     )\n",
      "\u001b[1;32mc:\\Users\\HPr\\anaconda3\\envs\\rest_rating\\lib\\site-packages\\sklearn\\model_selection\\_split.py\u001b[0m in \u001b[0;36msplit\u001b[1;34m(self, X, y, groups)\u001b[0m\n\u001b[0;32m    336\u001b[0m                     \u001b[1;34m\" than the number of samples: n_samples={1}.\"\u001b[0m\u001b[1;33m\u001b[0m\u001b[1;33m\u001b[0m\u001b[0m\n\u001b[1;32m--> 337\u001b[1;33m                 ).format(self.n_splits, n_samples)\n\u001b[0m\u001b[0;32m    338\u001b[0m             )\n",
      "\u001b[1;31mValueError\u001b[0m: Cannot have number of splits n_splits=2 greater than the number of samples: n_samples=1.",
      "\nThe above exception was the direct cause of the following exception:\n",
      "\u001b[1;31mRestaurantRatingException\u001b[0m                 Traceback (most recent call last)",
      "\u001b[1;32mc:\\Users\\HPr\\Restaurant_Rating_prediction\\RestaurantRating\\entity\\model_factory.py\u001b[0m in \u001b[0;36minitiate_best_parameter_search_for_initialized_model\u001b[1;34m(self, initialized_model, input_feature, output_feature)\u001b[0m\n\u001b[0;32m    303\u001b[0m                                                       \u001b[0minput_feature\u001b[0m\u001b[1;33m=\u001b[0m\u001b[0minput_feature\u001b[0m\u001b[1;33m,\u001b[0m\u001b[1;33m\u001b[0m\u001b[1;33m\u001b[0m\u001b[0m\n\u001b[1;32m--> 304\u001b[1;33m                                                       output_feature=output_feature)\n\u001b[0m\u001b[0;32m    305\u001b[0m         \u001b[1;32mexcept\u001b[0m \u001b[0mException\u001b[0m \u001b[1;32mas\u001b[0m \u001b[0me\u001b[0m\u001b[1;33m:\u001b[0m\u001b[1;33m\u001b[0m\u001b[1;33m\u001b[0m\u001b[0m\n",
      "\u001b[1;32mc:\\Users\\HPr\\Restaurant_Rating_prediction\\RestaurantRating\\entity\\model_factory.py\u001b[0m in \u001b[0;36mexecute_grid_search_operation\u001b[1;34m(self, initialized_model, input_feature, output_feature)\u001b[0m\n\u001b[0;32m    249\u001b[0m         \u001b[1;32mexcept\u001b[0m \u001b[0mException\u001b[0m \u001b[1;32mas\u001b[0m \u001b[0me\u001b[0m\u001b[1;33m:\u001b[0m\u001b[1;33m\u001b[0m\u001b[1;33m\u001b[0m\u001b[0m\n\u001b[1;32m--> 250\u001b[1;33m             \u001b[1;32mraise\u001b[0m \u001b[0mRestaurantRatingException\u001b[0m\u001b[1;33m(\u001b[0m\u001b[0me\u001b[0m\u001b[1;33m,\u001b[0m \u001b[0msys\u001b[0m\u001b[1;33m)\u001b[0m \u001b[1;32mfrom\u001b[0m \u001b[0me\u001b[0m\u001b[1;33m\u001b[0m\u001b[1;33m\u001b[0m\u001b[0m\n\u001b[0m\u001b[0;32m    251\u001b[0m \u001b[1;33m\u001b[0m\u001b[0m\n",
      "\u001b[1;31mRestaurantRatingException\u001b[0m: \n        Error occured in script: \n        [ c:\\Users\\HPr\\Restaurant_Rating_prediction\\RestaurantRating\\entity\\model_factory.py ] at \n        try block line number: [239] and exception block line number: [250] \n        error message: [Cannot have number of splits n_splits=2 greater than the number of samples: n_samples=1.]\n        ",
      "\nThe above exception was the direct cause of the following exception:\n",
      "\u001b[1;31mRestaurantRatingException\u001b[0m                 Traceback (most recent call last)",
      "\u001b[1;32mc:\\Users\\HPr\\Restaurant_Rating_prediction\\RestaurantRating\\entity\\model_factory.py\u001b[0m in \u001b[0;36minitiate_best_parameter_search_for_initialized_models\u001b[1;34m(self, initialized_model_list, input_feature, output_feature)\u001b[0m\n\u001b[0;32m    318\u001b[0m                     \u001b[0minput_feature\u001b[0m\u001b[1;33m=\u001b[0m\u001b[0minput_feature\u001b[0m\u001b[1;33m,\u001b[0m\u001b[1;33m\u001b[0m\u001b[1;33m\u001b[0m\u001b[0m\n\u001b[1;32m--> 319\u001b[1;33m                     \u001b[0moutput_feature\u001b[0m\u001b[1;33m=\u001b[0m\u001b[0moutput_feature\u001b[0m\u001b[1;33m\u001b[0m\u001b[1;33m\u001b[0m\u001b[0m\n\u001b[0m\u001b[0;32m    320\u001b[0m                 )\n",
      "\u001b[1;32mc:\\Users\\HPr\\Restaurant_Rating_prediction\\RestaurantRating\\entity\\model_factory.py\u001b[0m in \u001b[0;36minitiate_best_parameter_search_for_initialized_model\u001b[1;34m(self, initialized_model, input_feature, output_feature)\u001b[0m\n\u001b[0;32m    305\u001b[0m         \u001b[1;32mexcept\u001b[0m \u001b[0mException\u001b[0m \u001b[1;32mas\u001b[0m \u001b[0me\u001b[0m\u001b[1;33m:\u001b[0m\u001b[1;33m\u001b[0m\u001b[1;33m\u001b[0m\u001b[0m\n\u001b[1;32m--> 306\u001b[1;33m             \u001b[1;32mraise\u001b[0m \u001b[0mRestaurantRatingException\u001b[0m\u001b[1;33m(\u001b[0m\u001b[0me\u001b[0m\u001b[1;33m,\u001b[0m \u001b[0msys\u001b[0m\u001b[1;33m)\u001b[0m \u001b[1;32mfrom\u001b[0m \u001b[0me\u001b[0m\u001b[1;33m\u001b[0m\u001b[1;33m\u001b[0m\u001b[0m\n\u001b[0m\u001b[0;32m    307\u001b[0m \u001b[1;33m\u001b[0m\u001b[0m\n",
      "\u001b[1;31mRestaurantRatingException\u001b[0m: \n        Error occured in script: \n        [ c:\\Users\\HPr\\Restaurant_Rating_prediction\\RestaurantRating\\entity\\model_factory.py ] at \n        try block line number: [304] and exception block line number: [306] \n        error message: [\n        Error occured in script: \n        [ c:\\Users\\HPr\\Restaurant_Rating_prediction\\RestaurantRating\\entity\\model_factory.py ] at \n        try block line number: [239] and exception block line number: [250] \n        error message: [Cannot have number of splits n_splits=2 greater than the number of samples: n_samples=1.]\n        ]\n        ",
      "\nThe above exception was the direct cause of the following exception:\n",
      "\u001b[1;31mRestaurantRatingException\u001b[0m                 Traceback (most recent call last)",
      "\u001b[1;32mc:\\Users\\HPr\\Restaurant_Rating_prediction\\RestaurantRating\\entity\\model_factory.py\u001b[0m in \u001b[0;36mget_best_model\u001b[1;34m(self, X, y, base_accuracy)\u001b[0m\n\u001b[0;32m    365\u001b[0m                 \u001b[0minput_feature\u001b[0m\u001b[1;33m=\u001b[0m\u001b[0mX\u001b[0m\u001b[1;33m,\u001b[0m\u001b[1;33m\u001b[0m\u001b[1;33m\u001b[0m\u001b[0m\n\u001b[1;32m--> 366\u001b[1;33m                 \u001b[0moutput_feature\u001b[0m\u001b[1;33m=\u001b[0m\u001b[0my\u001b[0m\u001b[1;33m\u001b[0m\u001b[1;33m\u001b[0m\u001b[0m\n\u001b[0m\u001b[0;32m    367\u001b[0m             )\n",
      "\u001b[1;32mc:\\Users\\HPr\\Restaurant_Rating_prediction\\RestaurantRating\\entity\\model_factory.py\u001b[0m in \u001b[0;36minitiate_best_parameter_search_for_initialized_models\u001b[1;34m(self, initialized_model_list, input_feature, output_feature)\u001b[0m\n\u001b[0;32m    323\u001b[0m         \u001b[1;32mexcept\u001b[0m \u001b[0mException\u001b[0m \u001b[1;32mas\u001b[0m \u001b[0me\u001b[0m\u001b[1;33m:\u001b[0m\u001b[1;33m\u001b[0m\u001b[1;33m\u001b[0m\u001b[0m\n\u001b[1;32m--> 324\u001b[1;33m             \u001b[1;32mraise\u001b[0m \u001b[0mRestaurantRatingException\u001b[0m\u001b[1;33m(\u001b[0m\u001b[0me\u001b[0m\u001b[1;33m,\u001b[0m \u001b[0msys\u001b[0m\u001b[1;33m)\u001b[0m \u001b[1;32mfrom\u001b[0m \u001b[0me\u001b[0m\u001b[1;33m\u001b[0m\u001b[1;33m\u001b[0m\u001b[0m\n\u001b[0m\u001b[0;32m    325\u001b[0m \u001b[1;33m\u001b[0m\u001b[0m\n",
      "\u001b[1;31mRestaurantRatingException\u001b[0m: \n        Error occured in script: \n        [ c:\\Users\\HPr\\Restaurant_Rating_prediction\\RestaurantRating\\entity\\model_factory.py ] at \n        try block line number: [319] and exception block line number: [324] \n        error message: [\n        Error occured in script: \n        [ c:\\Users\\HPr\\Restaurant_Rating_prediction\\RestaurantRating\\entity\\model_factory.py ] at \n        try block line number: [304] and exception block line number: [306] \n        error message: [\n        Error occured in script: \n        [ c:\\Users\\HPr\\Restaurant_Rating_prediction\\RestaurantRating\\entity\\model_factory.py ] at \n        try block line number: [239] and exception block line number: [250] \n        error message: [Cannot have number of splits n_splits=2 greater than the number of samples: n_samples=1.]\n        ]\n        ]\n        ",
      "\nDuring handling of the above exception, another exception occurred:\n",
      "\u001b[1;31mRestaurantRatingException\u001b[0m                 Traceback (most recent call last)",
      "\u001b[1;32m~\\AppData\\Local\\Temp\\ipykernel_4872\\2690868009.py\u001b[0m in \u001b[0;36m<module>\u001b[1;34m\u001b[0m\n\u001b[1;32m----> 1\u001b[1;33m \u001b[0mbest_model\u001b[0m\u001b[1;33m=\u001b[0m \u001b[0mmodel_factory\u001b[0m\u001b[1;33m.\u001b[0m\u001b[0mget_best_model\u001b[0m\u001b[1;33m(\u001b[0m\u001b[0mx\u001b[0m\u001b[1;33m,\u001b[0m\u001b[0my\u001b[0m\u001b[1;33m)\u001b[0m\u001b[1;33m\u001b[0m\u001b[1;33m\u001b[0m\u001b[0m\n\u001b[0m",
      "\u001b[1;32mc:\\Users\\HPr\\Restaurant_Rating_prediction\\RestaurantRating\\entity\\model_factory.py\u001b[0m in \u001b[0;36mget_best_model\u001b[1;34m(self, X, y, base_accuracy)\u001b[0m\n\u001b[0;32m    369\u001b[0m                                                                                   base_accuracy=base_accuracy)\n\u001b[0;32m    370\u001b[0m         \u001b[1;32mexcept\u001b[0m \u001b[0mException\u001b[0m \u001b[1;32mas\u001b[0m \u001b[0me\u001b[0m\u001b[1;33m:\u001b[0m\u001b[1;33m\u001b[0m\u001b[1;33m\u001b[0m\u001b[0m\n\u001b[1;32m--> 371\u001b[1;33m             \u001b[1;32mraise\u001b[0m \u001b[0mRestaurantRatingException\u001b[0m\u001b[1;33m(\u001b[0m\u001b[0me\u001b[0m\u001b[1;33m,\u001b[0m \u001b[0msys\u001b[0m\u001b[1;33m)\u001b[0m\u001b[1;33m\u001b[0m\u001b[1;33m\u001b[0m\u001b[0m\n\u001b[0m",
      "\u001b[1;31mRestaurantRatingException\u001b[0m: \n        Error occured in script: \n        [ c:\\Users\\HPr\\Restaurant_Rating_prediction\\RestaurantRating\\entity\\model_factory.py ] at \n        try block line number: [366] and exception block line number: [371] \n        error message: [\n        Error occured in script: \n        [ c:\\Users\\HPr\\Restaurant_Rating_prediction\\RestaurantRating\\entity\\model_factory.py ] at \n        try block line number: [319] and exception block line number: [324] \n        error message: [\n        Error occured in script: \n        [ c:\\Users\\HPr\\Restaurant_Rating_prediction\\RestaurantRating\\entity\\model_factory.py ] at \n        try block line number: [304] and exception block line number: [306] \n        error message: [\n        Error occured in script: \n        [ c:\\Users\\HPr\\Restaurant_Rating_prediction\\RestaurantRating\\entity\\model_factory.py ] at \n        try block line number: [239] and exception block line number: [250] \n        error message: [Cannot have number of splits n_splits=2 greater than the number of samples: n_samples=1.]\n        ]\n        ]\n        ]\n        "
     ]
    }
   ],
   "source": [
    "best_model= model_factory.get_best_model(x,y)\n"
   ]
  },
  {
   "cell_type": "code",
   "execution_count": null,
   "metadata": {},
   "outputs": [
    {
     "data": {
      "text/plain": [
       "(1, 49395)"
      ]
     },
     "execution_count": 13,
     "metadata": {},
     "output_type": "execute_result"
    }
   ],
   "source": [
    "x.shape"
   ]
  },
  {
   "cell_type": "code",
   "execution_count": null,
   "metadata": {},
   "outputs": [
    {
     "data": {
      "text/plain": [
       "array([3.4], dtype=object)"
      ]
     },
     "execution_count": 16,
     "metadata": {},
     "output_type": "execute_result"
    }
   ],
   "source": [
    "y"
   ]
  },
  {
   "cell_type": "code",
   "execution_count": null,
   "metadata": {},
   "outputs": [
    {
     "data": {
      "text/html": [
       "<div>\n",
       "<style scoped>\n",
       "    .dataframe tbody tr th:only-of-type {\n",
       "        vertical-align: middle;\n",
       "    }\n",
       "\n",
       "    .dataframe tbody tr th {\n",
       "        vertical-align: top;\n",
       "    }\n",
       "\n",
       "    .dataframe thead th {\n",
       "        text-align: right;\n",
       "    }\n",
       "</style>\n",
       "<table border=\"1\" class=\"dataframe\">\n",
       "  <thead>\n",
       "    <tr style=\"text-align: right;\">\n",
       "      <th></th>\n",
       "      <th>0</th>\n",
       "    </tr>\n",
       "  </thead>\n",
       "  <tbody>\n",
       "    <tr>\n",
       "      <th>0</th>\n",
       "      <td>3.4</td>\n",
       "    </tr>\n",
       "  </tbody>\n",
       "</table>\n",
       "</div>"
      ],
      "text/plain": [
       "     0\n",
       "0  3.4"
      ]
     },
     "execution_count": 19,
     "metadata": {},
     "output_type": "execute_result"
    }
   ],
   "source": [
    "import pandas as pd\n",
    "y_DATA= pd.DataFrame(y)\n",
    "y_DATA"
   ]
  },
  {
   "cell_type": "code",
   "execution_count": null,
   "metadata": {},
   "outputs": [
    {
     "data": {
      "text/plain": [
       "0      (0, 0)\\t-0.006154384387507251\\n  (0, 1)\\t1.3...\n",
       "Name: 0, dtype: object"
      ]
     },
     "execution_count": 24,
     "metadata": {},
     "output_type": "execute_result"
    }
   ],
   "source": [
    "import pandas as pd\n",
    "data_array= pd.DataFrame(data)\n",
    "data_array.head()[0]"
   ]
  },
  {
   "cell_type": "code",
   "execution_count": null,
   "metadata": {},
   "outputs": [],
   "source": [
    "x=data_array[0]"
   ]
  },
  {
   "cell_type": "code",
   "execution_count": null,
   "metadata": {},
   "outputs": [
    {
     "ename": "TypeError",
     "evalue": "cannot concatenate object of type '<class 'numpy.ndarray'>'; only Series and DataFrame objs are valid",
     "output_type": "error",
     "traceback": [
      "\u001b[1;31m---------------------------------------------------------------------------\u001b[0m",
      "\u001b[1;31mTypeError\u001b[0m                                 Traceback (most recent call last)",
      "\u001b[1;32m~\\AppData\\Local\\Temp\\ipykernel_8016\\3988827969.py\u001b[0m in \u001b[0;36m<module>\u001b[1;34m\u001b[0m\n\u001b[1;32m----> 1\u001b[1;33m \u001b[0mnew_data\u001b[0m\u001b[1;33m=\u001b[0m\u001b[0mpd\u001b[0m\u001b[1;33m.\u001b[0m\u001b[0mconcat\u001b[0m\u001b[1;33m(\u001b[0m\u001b[1;33m[\u001b[0m\u001b[0mdata_array\u001b[0m\u001b[1;33m[\u001b[0m\u001b[1;36m0\u001b[0m\u001b[1;33m]\u001b[0m\u001b[1;33m[\u001b[0m\u001b[1;36m1\u001b[0m\u001b[1;33m]\u001b[0m\u001b[1;33m]\u001b[0m\u001b[1;33m)\u001b[0m\u001b[1;33m\u001b[0m\u001b[1;33m\u001b[0m\u001b[0m\n\u001b[0m",
      "\u001b[1;32mc:\\Users\\HPr\\anaconda3\\envs\\rest_rating\\lib\\site-packages\\pandas\\core\\reshape\\concat.py\u001b[0m in \u001b[0;36mconcat\u001b[1;34m(objs, axis, join, ignore_index, keys, levels, names, verify_integrity, sort, copy)\u001b[0m\n\u001b[0;32m    282\u001b[0m         \u001b[0mverify_integrity\u001b[0m\u001b[1;33m=\u001b[0m\u001b[0mverify_integrity\u001b[0m\u001b[1;33m,\u001b[0m\u001b[1;33m\u001b[0m\u001b[1;33m\u001b[0m\u001b[0m\n\u001b[0;32m    283\u001b[0m         \u001b[0mcopy\u001b[0m\u001b[1;33m=\u001b[0m\u001b[0mcopy\u001b[0m\u001b[1;33m,\u001b[0m\u001b[1;33m\u001b[0m\u001b[1;33m\u001b[0m\u001b[0m\n\u001b[1;32m--> 284\u001b[1;33m         \u001b[0msort\u001b[0m\u001b[1;33m=\u001b[0m\u001b[0msort\u001b[0m\u001b[1;33m,\u001b[0m\u001b[1;33m\u001b[0m\u001b[1;33m\u001b[0m\u001b[0m\n\u001b[0m\u001b[0;32m    285\u001b[0m     )\n\u001b[0;32m    286\u001b[0m \u001b[1;33m\u001b[0m\u001b[0m\n",
      "\u001b[1;32mc:\\Users\\HPr\\anaconda3\\envs\\rest_rating\\lib\\site-packages\\pandas\\core\\reshape\\concat.py\u001b[0m in \u001b[0;36m__init__\u001b[1;34m(self, objs, axis, join, keys, levels, names, ignore_index, verify_integrity, copy, sort)\u001b[0m\n\u001b[0;32m    357\u001b[0m                     \u001b[1;34m\"only Series and DataFrame objs are valid\"\u001b[0m\u001b[1;33m\u001b[0m\u001b[1;33m\u001b[0m\u001b[0m\n\u001b[0;32m    358\u001b[0m                 )\n\u001b[1;32m--> 359\u001b[1;33m                 \u001b[1;32mraise\u001b[0m \u001b[0mTypeError\u001b[0m\u001b[1;33m(\u001b[0m\u001b[0mmsg\u001b[0m\u001b[1;33m)\u001b[0m\u001b[1;33m\u001b[0m\u001b[1;33m\u001b[0m\u001b[0m\n\u001b[0m\u001b[0;32m    360\u001b[0m \u001b[1;33m\u001b[0m\u001b[0m\n\u001b[0;32m    361\u001b[0m             \u001b[1;31m# consolidate\u001b[0m\u001b[1;33m\u001b[0m\u001b[1;33m\u001b[0m\u001b[1;33m\u001b[0m\u001b[0m\n",
      "\u001b[1;31mTypeError\u001b[0m: cannot concatenate object of type '<class 'numpy.ndarray'>'; only Series and DataFrame objs are valid"
     ]
    }
   ],
   "source": [
    "data_array[0][1]\n"
   ]
  },
  {
   "cell_type": "code",
   "execution_count": null,
   "metadata": {},
   "outputs": [
    {
     "data": {
      "text/plain": [
       "array([4.8, 4.5, 4.4, ..., 3.7, 4. , 4. ])"
      ]
     },
     "execution_count": 50,
     "metadata": {},
     "output_type": "execute_result"
    }
   ],
   "source": [
    "y"
   ]
  },
  {
   "cell_type": "code",
   "execution_count": null,
   "metadata": {},
   "outputs": [
    {
     "ename": "SyntaxError",
     "evalue": "positional argument follows keyword argument (1375137174.py, line 1)",
     "output_type": "error",
     "traceback": [
      "\u001b[1;36m  File \u001b[1;32m\"C:\\Users\\HPr\\AppData\\Local\\Temp\\ipykernel_8016\\1375137174.py\"\u001b[1;36m, line \u001b[1;32m1\u001b[0m\n\u001b[1;33m    new_data= pd.DataFrame(x,y,columns=x,y)\u001b[0m\n\u001b[1;37m                                        ^\u001b[0m\n\u001b[1;31mSyntaxError\u001b[0m\u001b[1;31m:\u001b[0m positional argument follows keyword argument\n"
     ]
    }
   ],
   "source": [
    "new_data= pd.DataFrame(x,y,columns=x,y)"
   ]
  },
  {
   "cell_type": "code",
   "execution_count": null,
   "metadata": {},
   "outputs": [
    {
     "name": "stdout",
     "output_type": "stream",
     "text": [
      "{'fit_intercept': True}\n",
      "{'min_samples_leaf': 2}\n",
      "{'cv': 4, 'verbose': 2}\n"
     ]
    },
    {
     "ename": "RestaurantRatingException",
     "evalue": "\n        Error occured in script: \n        [ c:\\Users\\HPr\\Restaurant_Rating_prediction\\RestaurantRating\\entity\\model_factory.py ] at \n        try block line number: [364] and exception block line number: [369] \n        error message: [\n        Error occured in script: \n        [ c:\\Users\\HPr\\Restaurant_Rating_prediction\\RestaurantRating\\entity\\model_factory.py ] at \n        try block line number: [317] and exception block line number: [322] \n        error message: [\n        Error occured in script: \n        [ c:\\Users\\HPr\\Restaurant_Rating_prediction\\RestaurantRating\\entity\\model_factory.py ] at \n        try block line number: [302] and exception block line number: [304] \n        error message: [\n        Error occured in script: \n        [ c:\\Users\\HPr\\Restaurant_Rating_prediction\\RestaurantRating\\entity\\model_factory.py ] at \n        try block line number: [237] and exception block line number: [248] \n        error message: [Found input variables with inconsistent numbers of samples: [2, 9551]]\n        ]\n        ]\n        ]\n        ",
     "output_type": "error",
     "traceback": [
      "\u001b[1;31m---------------------------------------------------------------------------\u001b[0m",
      "\u001b[1;31mValueError\u001b[0m                                Traceback (most recent call last)",
      "\u001b[1;32mc:\\Users\\HPr\\Restaurant_Rating_prediction\\RestaurantRating\\entity\\model_factory.py\u001b[0m in \u001b[0;36mexecute_grid_search_operation\u001b[1;34m(self, initialized_model, input_feature, output_feature)\u001b[0m\n\u001b[0;32m    236\u001b[0m             \u001b[0mlogging\u001b[0m\u001b[1;33m.\u001b[0m\u001b[0minfo\u001b[0m\u001b[1;33m(\u001b[0m\u001b[0mmessage\u001b[0m\u001b[1;33m)\u001b[0m\u001b[1;33m\u001b[0m\u001b[1;33m\u001b[0m\u001b[0m\n\u001b[1;32m--> 237\u001b[1;33m             \u001b[0mgrid_search_cv\u001b[0m\u001b[1;33m.\u001b[0m\u001b[0mfit\u001b[0m\u001b[1;33m(\u001b[0m\u001b[0minput_feature\u001b[0m\u001b[1;33m,\u001b[0m \u001b[0moutput_feature\u001b[0m\u001b[1;33m)\u001b[0m\u001b[1;33m\u001b[0m\u001b[1;33m\u001b[0m\u001b[0m\n\u001b[0m\u001b[0;32m    238\u001b[0m             \u001b[0mmessage\u001b[0m \u001b[1;33m=\u001b[0m \u001b[1;34mf'{\">>\"* 30} f\"Training {type(initialized_model.model).__name__}\" completed {\"<<\"*30}'\u001b[0m\u001b[1;33m\u001b[0m\u001b[1;33m\u001b[0m\u001b[0m\n",
      "\u001b[1;32mc:\\Users\\HPr\\anaconda3\\envs\\rest_rating\\lib\\site-packages\\sklearn\\model_selection\\_search.py\u001b[0m in \u001b[0;36mfit\u001b[1;34m(self, X, y, groups, **fit_params)\u001b[0m\n\u001b[0;32m    798\u001b[0m \u001b[1;33m\u001b[0m\u001b[0m\n\u001b[1;32m--> 799\u001b[1;33m         \u001b[0mX\u001b[0m\u001b[1;33m,\u001b[0m \u001b[0my\u001b[0m\u001b[1;33m,\u001b[0m \u001b[0mgroups\u001b[0m \u001b[1;33m=\u001b[0m \u001b[0mindexable\u001b[0m\u001b[1;33m(\u001b[0m\u001b[0mX\u001b[0m\u001b[1;33m,\u001b[0m \u001b[0my\u001b[0m\u001b[1;33m,\u001b[0m \u001b[0mgroups\u001b[0m\u001b[1;33m)\u001b[0m\u001b[1;33m\u001b[0m\u001b[1;33m\u001b[0m\u001b[0m\n\u001b[0m\u001b[0;32m    800\u001b[0m         \u001b[0mfit_params\u001b[0m \u001b[1;33m=\u001b[0m \u001b[0m_check_fit_params\u001b[0m\u001b[1;33m(\u001b[0m\u001b[0mX\u001b[0m\u001b[1;33m,\u001b[0m \u001b[0mfit_params\u001b[0m\u001b[1;33m)\u001b[0m\u001b[1;33m\u001b[0m\u001b[1;33m\u001b[0m\u001b[0m\n",
      "\u001b[1;32mc:\\Users\\HPr\\anaconda3\\envs\\rest_rating\\lib\\site-packages\\sklearn\\utils\\validation.py\u001b[0m in \u001b[0;36mindexable\u001b[1;34m(*iterables)\u001b[0m\n\u001b[0;32m    377\u001b[0m     \u001b[0mresult\u001b[0m \u001b[1;33m=\u001b[0m \u001b[1;33m[\u001b[0m\u001b[0m_make_indexable\u001b[0m\u001b[1;33m(\u001b[0m\u001b[0mX\u001b[0m\u001b[1;33m)\u001b[0m \u001b[1;32mfor\u001b[0m \u001b[0mX\u001b[0m \u001b[1;32min\u001b[0m \u001b[0miterables\u001b[0m\u001b[1;33m]\u001b[0m\u001b[1;33m\u001b[0m\u001b[1;33m\u001b[0m\u001b[0m\n\u001b[1;32m--> 378\u001b[1;33m     \u001b[0mcheck_consistent_length\u001b[0m\u001b[1;33m(\u001b[0m\u001b[1;33m*\u001b[0m\u001b[0mresult\u001b[0m\u001b[1;33m)\u001b[0m\u001b[1;33m\u001b[0m\u001b[1;33m\u001b[0m\u001b[0m\n\u001b[0m\u001b[0;32m    379\u001b[0m     \u001b[1;32mreturn\u001b[0m \u001b[0mresult\u001b[0m\u001b[1;33m\u001b[0m\u001b[1;33m\u001b[0m\u001b[0m\n",
      "\u001b[1;32mc:\\Users\\HPr\\anaconda3\\envs\\rest_rating\\lib\\site-packages\\sklearn\\utils\\validation.py\u001b[0m in \u001b[0;36mcheck_consistent_length\u001b[1;34m(*arrays)\u001b[0m\n\u001b[0;32m    333\u001b[0m             \u001b[1;34m\"Found input variables with inconsistent numbers of samples: %r\"\u001b[0m\u001b[1;33m\u001b[0m\u001b[1;33m\u001b[0m\u001b[0m\n\u001b[1;32m--> 334\u001b[1;33m             \u001b[1;33m%\u001b[0m \u001b[1;33m[\u001b[0m\u001b[0mint\u001b[0m\u001b[1;33m(\u001b[0m\u001b[0ml\u001b[0m\u001b[1;33m)\u001b[0m \u001b[1;32mfor\u001b[0m \u001b[0ml\u001b[0m \u001b[1;32min\u001b[0m \u001b[0mlengths\u001b[0m\u001b[1;33m]\u001b[0m\u001b[1;33m\u001b[0m\u001b[1;33m\u001b[0m\u001b[0m\n\u001b[0m\u001b[0;32m    335\u001b[0m         )\n",
      "\u001b[1;31mValueError\u001b[0m: Found input variables with inconsistent numbers of samples: [2, 9551]",
      "\nThe above exception was the direct cause of the following exception:\n",
      "\u001b[1;31mRestaurantRatingException\u001b[0m                 Traceback (most recent call last)",
      "\u001b[1;32mc:\\Users\\HPr\\Restaurant_Rating_prediction\\RestaurantRating\\entity\\model_factory.py\u001b[0m in \u001b[0;36minitiate_best_parameter_search_for_initialized_model\u001b[1;34m(self, initialized_model, input_feature, output_feature)\u001b[0m\n\u001b[0;32m    301\u001b[0m                                                       \u001b[0minput_feature\u001b[0m\u001b[1;33m=\u001b[0m\u001b[0minput_feature\u001b[0m\u001b[1;33m,\u001b[0m\u001b[1;33m\u001b[0m\u001b[1;33m\u001b[0m\u001b[0m\n\u001b[1;32m--> 302\u001b[1;33m                                                       output_feature=output_feature)\n\u001b[0m\u001b[0;32m    303\u001b[0m         \u001b[1;32mexcept\u001b[0m \u001b[0mException\u001b[0m \u001b[1;32mas\u001b[0m \u001b[0me\u001b[0m\u001b[1;33m:\u001b[0m\u001b[1;33m\u001b[0m\u001b[1;33m\u001b[0m\u001b[0m\n",
      "\u001b[1;32mc:\\Users\\HPr\\Restaurant_Rating_prediction\\RestaurantRating\\entity\\model_factory.py\u001b[0m in \u001b[0;36mexecute_grid_search_operation\u001b[1;34m(self, initialized_model, input_feature, output_feature)\u001b[0m\n\u001b[0;32m    247\u001b[0m         \u001b[1;32mexcept\u001b[0m \u001b[0mException\u001b[0m \u001b[1;32mas\u001b[0m \u001b[0me\u001b[0m\u001b[1;33m:\u001b[0m\u001b[1;33m\u001b[0m\u001b[1;33m\u001b[0m\u001b[0m\n\u001b[1;32m--> 248\u001b[1;33m             \u001b[1;32mraise\u001b[0m \u001b[0mRestaurantRatingException\u001b[0m\u001b[1;33m(\u001b[0m\u001b[0me\u001b[0m\u001b[1;33m,\u001b[0m \u001b[0msys\u001b[0m\u001b[1;33m)\u001b[0m \u001b[1;32mfrom\u001b[0m \u001b[0me\u001b[0m\u001b[1;33m\u001b[0m\u001b[1;33m\u001b[0m\u001b[0m\n\u001b[0m\u001b[0;32m    249\u001b[0m \u001b[1;33m\u001b[0m\u001b[0m\n",
      "\u001b[1;31mRestaurantRatingException\u001b[0m: \n        Error occured in script: \n        [ c:\\Users\\HPr\\Restaurant_Rating_prediction\\RestaurantRating\\entity\\model_factory.py ] at \n        try block line number: [237] and exception block line number: [248] \n        error message: [Found input variables with inconsistent numbers of samples: [2, 9551]]\n        ",
      "\nThe above exception was the direct cause of the following exception:\n",
      "\u001b[1;31mRestaurantRatingException\u001b[0m                 Traceback (most recent call last)",
      "\u001b[1;32mc:\\Users\\HPr\\Restaurant_Rating_prediction\\RestaurantRating\\entity\\model_factory.py\u001b[0m in \u001b[0;36minitiate_best_parameter_search_for_initialized_models\u001b[1;34m(self, initialized_model_list, input_feature, output_feature)\u001b[0m\n\u001b[0;32m    316\u001b[0m                     \u001b[0minput_feature\u001b[0m\u001b[1;33m=\u001b[0m\u001b[0minput_feature\u001b[0m\u001b[1;33m,\u001b[0m\u001b[1;33m\u001b[0m\u001b[1;33m\u001b[0m\u001b[0m\n\u001b[1;32m--> 317\u001b[1;33m                     \u001b[0moutput_feature\u001b[0m\u001b[1;33m=\u001b[0m\u001b[0moutput_feature\u001b[0m\u001b[1;33m\u001b[0m\u001b[1;33m\u001b[0m\u001b[0m\n\u001b[0m\u001b[0;32m    318\u001b[0m                 )\n",
      "\u001b[1;32mc:\\Users\\HPr\\Restaurant_Rating_prediction\\RestaurantRating\\entity\\model_factory.py\u001b[0m in \u001b[0;36minitiate_best_parameter_search_for_initialized_model\u001b[1;34m(self, initialized_model, input_feature, output_feature)\u001b[0m\n\u001b[0;32m    303\u001b[0m         \u001b[1;32mexcept\u001b[0m \u001b[0mException\u001b[0m \u001b[1;32mas\u001b[0m \u001b[0me\u001b[0m\u001b[1;33m:\u001b[0m\u001b[1;33m\u001b[0m\u001b[1;33m\u001b[0m\u001b[0m\n\u001b[1;32m--> 304\u001b[1;33m             \u001b[1;32mraise\u001b[0m \u001b[0mRestaurantRatingException\u001b[0m\u001b[1;33m(\u001b[0m\u001b[0me\u001b[0m\u001b[1;33m,\u001b[0m \u001b[0msys\u001b[0m\u001b[1;33m)\u001b[0m \u001b[1;32mfrom\u001b[0m \u001b[0me\u001b[0m\u001b[1;33m\u001b[0m\u001b[1;33m\u001b[0m\u001b[0m\n\u001b[0m\u001b[0;32m    305\u001b[0m \u001b[1;33m\u001b[0m\u001b[0m\n",
      "\u001b[1;31mRestaurantRatingException\u001b[0m: \n        Error occured in script: \n        [ c:\\Users\\HPr\\Restaurant_Rating_prediction\\RestaurantRating\\entity\\model_factory.py ] at \n        try block line number: [302] and exception block line number: [304] \n        error message: [\n        Error occured in script: \n        [ c:\\Users\\HPr\\Restaurant_Rating_prediction\\RestaurantRating\\entity\\model_factory.py ] at \n        try block line number: [237] and exception block line number: [248] \n        error message: [Found input variables with inconsistent numbers of samples: [2, 9551]]\n        ]\n        ",
      "\nThe above exception was the direct cause of the following exception:\n",
      "\u001b[1;31mRestaurantRatingException\u001b[0m                 Traceback (most recent call last)",
      "\u001b[1;32mc:\\Users\\HPr\\Restaurant_Rating_prediction\\RestaurantRating\\entity\\model_factory.py\u001b[0m in \u001b[0;36mget_best_model\u001b[1;34m(self, X, y, base_accuracy)\u001b[0m\n\u001b[0;32m    363\u001b[0m                 \u001b[0minput_feature\u001b[0m\u001b[1;33m=\u001b[0m\u001b[0mX\u001b[0m\u001b[1;33m,\u001b[0m\u001b[1;33m\u001b[0m\u001b[1;33m\u001b[0m\u001b[0m\n\u001b[1;32m--> 364\u001b[1;33m                 \u001b[0moutput_feature\u001b[0m\u001b[1;33m=\u001b[0m\u001b[0my\u001b[0m\u001b[1;33m\u001b[0m\u001b[1;33m\u001b[0m\u001b[0m\n\u001b[0m\u001b[0;32m    365\u001b[0m             )\n",
      "\u001b[1;32mc:\\Users\\HPr\\Restaurant_Rating_prediction\\RestaurantRating\\entity\\model_factory.py\u001b[0m in \u001b[0;36minitiate_best_parameter_search_for_initialized_models\u001b[1;34m(self, initialized_model_list, input_feature, output_feature)\u001b[0m\n\u001b[0;32m    321\u001b[0m         \u001b[1;32mexcept\u001b[0m \u001b[0mException\u001b[0m \u001b[1;32mas\u001b[0m \u001b[0me\u001b[0m\u001b[1;33m:\u001b[0m\u001b[1;33m\u001b[0m\u001b[1;33m\u001b[0m\u001b[0m\n\u001b[1;32m--> 322\u001b[1;33m             \u001b[1;32mraise\u001b[0m \u001b[0mRestaurantRatingException\u001b[0m\u001b[1;33m(\u001b[0m\u001b[0me\u001b[0m\u001b[1;33m,\u001b[0m \u001b[0msys\u001b[0m\u001b[1;33m)\u001b[0m \u001b[1;32mfrom\u001b[0m \u001b[0me\u001b[0m\u001b[1;33m\u001b[0m\u001b[1;33m\u001b[0m\u001b[0m\n\u001b[0m\u001b[0;32m    323\u001b[0m \u001b[1;33m\u001b[0m\u001b[0m\n",
      "\u001b[1;31mRestaurantRatingException\u001b[0m: \n        Error occured in script: \n        [ c:\\Users\\HPr\\Restaurant_Rating_prediction\\RestaurantRating\\entity\\model_factory.py ] at \n        try block line number: [317] and exception block line number: [322] \n        error message: [\n        Error occured in script: \n        [ c:\\Users\\HPr\\Restaurant_Rating_prediction\\RestaurantRating\\entity\\model_factory.py ] at \n        try block line number: [302] and exception block line number: [304] \n        error message: [\n        Error occured in script: \n        [ c:\\Users\\HPr\\Restaurant_Rating_prediction\\RestaurantRating\\entity\\model_factory.py ] at \n        try block line number: [237] and exception block line number: [248] \n        error message: [Found input variables with inconsistent numbers of samples: [2, 9551]]\n        ]\n        ]\n        ",
      "\nDuring handling of the above exception, another exception occurred:\n",
      "\u001b[1;31mRestaurantRatingException\u001b[0m                 Traceback (most recent call last)",
      "\u001b[1;32m~\\AppData\\Local\\Temp\\ipykernel_8016\\116509977.py\u001b[0m in \u001b[0;36m<module>\u001b[1;34m\u001b[0m\n\u001b[1;32m----> 1\u001b[1;33m \u001b[0mbest_model\u001b[0m\u001b[1;33m=\u001b[0m \u001b[0mmodel_factory\u001b[0m\u001b[1;33m.\u001b[0m\u001b[0mget_best_model\u001b[0m\u001b[1;33m(\u001b[0m\u001b[0mx\u001b[0m\u001b[1;33m,\u001b[0m\u001b[0my\u001b[0m\u001b[1;33m)\u001b[0m\u001b[1;33m\u001b[0m\u001b[1;33m\u001b[0m\u001b[0m\n\u001b[0m",
      "\u001b[1;32mc:\\Users\\HPr\\Restaurant_Rating_prediction\\RestaurantRating\\entity\\model_factory.py\u001b[0m in \u001b[0;36mget_best_model\u001b[1;34m(self, X, y, base_accuracy)\u001b[0m\n\u001b[0;32m    367\u001b[0m                                                                                   base_accuracy=base_accuracy)\n\u001b[0;32m    368\u001b[0m         \u001b[1;32mexcept\u001b[0m \u001b[0mException\u001b[0m \u001b[1;32mas\u001b[0m \u001b[0me\u001b[0m\u001b[1;33m:\u001b[0m\u001b[1;33m\u001b[0m\u001b[1;33m\u001b[0m\u001b[0m\n\u001b[1;32m--> 369\u001b[1;33m             \u001b[1;32mraise\u001b[0m \u001b[0mRestaurantRatingException\u001b[0m\u001b[1;33m(\u001b[0m\u001b[0me\u001b[0m\u001b[1;33m,\u001b[0m \u001b[0msys\u001b[0m\u001b[1;33m)\u001b[0m\u001b[1;33m\u001b[0m\u001b[1;33m\u001b[0m\u001b[0m\n\u001b[0m",
      "\u001b[1;31mRestaurantRatingException\u001b[0m: \n        Error occured in script: \n        [ c:\\Users\\HPr\\Restaurant_Rating_prediction\\RestaurantRating\\entity\\model_factory.py ] at \n        try block line number: [364] and exception block line number: [369] \n        error message: [\n        Error occured in script: \n        [ c:\\Users\\HPr\\Restaurant_Rating_prediction\\RestaurantRating\\entity\\model_factory.py ] at \n        try block line number: [317] and exception block line number: [322] \n        error message: [\n        Error occured in script: \n        [ c:\\Users\\HPr\\Restaurant_Rating_prediction\\RestaurantRating\\entity\\model_factory.py ] at \n        try block line number: [302] and exception block line number: [304] \n        error message: [\n        Error occured in script: \n        [ c:\\Users\\HPr\\Restaurant_Rating_prediction\\RestaurantRating\\entity\\model_factory.py ] at \n        try block line number: [237] and exception block line number: [248] \n        error message: [Found input variables with inconsistent numbers of samples: [2, 9551]]\n        ]\n        ]\n        ]\n        "
     ]
    }
   ],
   "source": [
    "best_model= model_factory.get_best_model(x,y)"
   ]
  },
  {
   "cell_type": "code",
   "execution_count": null,
   "metadata": {},
   "outputs": [],
   "source": [
    "data1=r'C:\\Users\\HPr\\Restaurant_Rating_prediction\\RestaurantRating\\artifact\\data_ingestion\\2023-01-17-19-22-29\\raw_data\\Zomato_csv.csv'"
   ]
  },
  {
   "cell_type": "code",
   "execution_count": null,
   "metadata": {},
   "outputs": [],
   "source": [
    "df=pd.read_csv(data1)"
   ]
  },
  {
   "cell_type": "code",
   "execution_count": null,
   "metadata": {},
   "outputs": [
    {
     "data": {
      "text/html": [
       "<div>\n",
       "<style scoped>\n",
       "    .dataframe tbody tr th:only-of-type {\n",
       "        vertical-align: middle;\n",
       "    }\n",
       "\n",
       "    .dataframe tbody tr th {\n",
       "        vertical-align: top;\n",
       "    }\n",
       "\n",
       "    .dataframe thead th {\n",
       "        text-align: right;\n",
       "    }\n",
       "</style>\n",
       "<table border=\"1\" class=\"dataframe\">\n",
       "  <thead>\n",
       "    <tr style=\"text-align: right;\">\n",
       "      <th></th>\n",
       "      <th>online_order</th>\n",
       "      <th>book_table</th>\n",
       "      <th>rate</th>\n",
       "      <th>votes</th>\n",
       "      <th>rest_type</th>\n",
       "      <th>cuisines</th>\n",
       "      <th>cost</th>\n",
       "      <th>menu_item</th>\n",
       "      <th>type</th>\n",
       "      <th>city</th>\n",
       "    </tr>\n",
       "  </thead>\n",
       "  <tbody>\n",
       "    <tr>\n",
       "      <th>0</th>\n",
       "      <td>1</td>\n",
       "      <td>1</td>\n",
       "      <td>4.100000</td>\n",
       "      <td>775</td>\n",
       "      <td>27</td>\n",
       "      <td>2091</td>\n",
       "      <td>800.0</td>\n",
       "      <td>8778</td>\n",
       "      <td>0</td>\n",
       "      <td>1</td>\n",
       "    </tr>\n",
       "    <tr>\n",
       "      <th>1</th>\n",
       "      <td>1</td>\n",
       "      <td>0</td>\n",
       "      <td>4.100000</td>\n",
       "      <td>787</td>\n",
       "      <td>27</td>\n",
       "      <td>922</td>\n",
       "      <td>800.0</td>\n",
       "      <td>8778</td>\n",
       "      <td>0</td>\n",
       "      <td>1</td>\n",
       "    </tr>\n",
       "    <tr>\n",
       "      <th>2</th>\n",
       "      <td>1</td>\n",
       "      <td>0</td>\n",
       "      <td>3.800000</td>\n",
       "      <td>918</td>\n",
       "      <td>22</td>\n",
       "      <td>743</td>\n",
       "      <td>800.0</td>\n",
       "      <td>8778</td>\n",
       "      <td>0</td>\n",
       "      <td>1</td>\n",
       "    </tr>\n",
       "    <tr>\n",
       "      <th>3</th>\n",
       "      <td>0</td>\n",
       "      <td>0</td>\n",
       "      <td>3.700000</td>\n",
       "      <td>88</td>\n",
       "      <td>78</td>\n",
       "      <td>2469</td>\n",
       "      <td>300.0</td>\n",
       "      <td>8778</td>\n",
       "      <td>0</td>\n",
       "      <td>1</td>\n",
       "    </tr>\n",
       "    <tr>\n",
       "      <th>4</th>\n",
       "      <td>0</td>\n",
       "      <td>0</td>\n",
       "      <td>3.800000</td>\n",
       "      <td>166</td>\n",
       "      <td>27</td>\n",
       "      <td>2119</td>\n",
       "      <td>600.0</td>\n",
       "      <td>8778</td>\n",
       "      <td>0</td>\n",
       "      <td>1</td>\n",
       "    </tr>\n",
       "    <tr>\n",
       "      <th>...</th>\n",
       "      <td>...</td>\n",
       "      <td>...</td>\n",
       "      <td>...</td>\n",
       "      <td>...</td>\n",
       "      <td>...</td>\n",
       "      <td>...</td>\n",
       "      <td>...</td>\n",
       "      <td>...</td>\n",
       "      <td>...</td>\n",
       "      <td>...</td>\n",
       "    </tr>\n",
       "    <tr>\n",
       "      <th>49390</th>\n",
       "      <td>0</td>\n",
       "      <td>0</td>\n",
       "      <td>3.600000</td>\n",
       "      <td>27</td>\n",
       "      <td>8</td>\n",
       "      <td>977</td>\n",
       "      <td>1500.0</td>\n",
       "      <td>8778</td>\n",
       "      <td>6</td>\n",
       "      <td>29</td>\n",
       "    </tr>\n",
       "    <tr>\n",
       "      <th>49391</th>\n",
       "      <td>0</td>\n",
       "      <td>0</td>\n",
       "      <td>3.700449</td>\n",
       "      <td>0</td>\n",
       "      <td>8</td>\n",
       "      <td>1346</td>\n",
       "      <td>600.0</td>\n",
       "      <td>8778</td>\n",
       "      <td>6</td>\n",
       "      <td>29</td>\n",
       "    </tr>\n",
       "    <tr>\n",
       "      <th>49392</th>\n",
       "      <td>0</td>\n",
       "      <td>0</td>\n",
       "      <td>3.700449</td>\n",
       "      <td>0</td>\n",
       "      <td>8</td>\n",
       "      <td>1346</td>\n",
       "      <td>2000.0</td>\n",
       "      <td>8778</td>\n",
       "      <td>6</td>\n",
       "      <td>29</td>\n",
       "    </tr>\n",
       "    <tr>\n",
       "      <th>49393</th>\n",
       "      <td>0</td>\n",
       "      <td>1</td>\n",
       "      <td>4.300000</td>\n",
       "      <td>236</td>\n",
       "      <td>8</td>\n",
       "      <td>1346</td>\n",
       "      <td>2500.0</td>\n",
       "      <td>8778</td>\n",
       "      <td>6</td>\n",
       "      <td>29</td>\n",
       "    </tr>\n",
       "    <tr>\n",
       "      <th>49394</th>\n",
       "      <td>0</td>\n",
       "      <td>0</td>\n",
       "      <td>3.400000</td>\n",
       "      <td>13</td>\n",
       "      <td>10</td>\n",
       "      <td>1371</td>\n",
       "      <td>1500.0</td>\n",
       "      <td>8778</td>\n",
       "      <td>6</td>\n",
       "      <td>29</td>\n",
       "    </tr>\n",
       "  </tbody>\n",
       "</table>\n",
       "<p>49395 rows × 10 columns</p>\n",
       "</div>"
      ],
      "text/plain": [
       "       online_order  book_table      rate  votes  rest_type  cuisines    cost  \\\n",
       "0                 1           1  4.100000    775         27      2091   800.0   \n",
       "1                 1           0  4.100000    787         27       922   800.0   \n",
       "2                 1           0  3.800000    918         22       743   800.0   \n",
       "3                 0           0  3.700000     88         78      2469   300.0   \n",
       "4                 0           0  3.800000    166         27      2119   600.0   \n",
       "...             ...         ...       ...    ...        ...       ...     ...   \n",
       "49390             0           0  3.600000     27          8       977  1500.0   \n",
       "49391             0           0  3.700449      0          8      1346   600.0   \n",
       "49392             0           0  3.700449      0          8      1346  2000.0   \n",
       "49393             0           1  4.300000    236          8      1346  2500.0   \n",
       "49394             0           0  3.400000     13         10      1371  1500.0   \n",
       "\n",
       "       menu_item  type  city  \n",
       "0           8778     0     1  \n",
       "1           8778     0     1  \n",
       "2           8778     0     1  \n",
       "3           8778     0     1  \n",
       "4           8778     0     1  \n",
       "...          ...   ...   ...  \n",
       "49390       8778     6    29  \n",
       "49391       8778     6    29  \n",
       "49392       8778     6    29  \n",
       "49393       8778     6    29  \n",
       "49394       8778     6    29  \n",
       "\n",
       "[49395 rows x 10 columns]"
      ]
     },
     "execution_count": 23,
     "metadata": {},
     "output_type": "execute_result"
    }
   ],
   "source": [
    "df"
   ]
  },
  {
   "cell_type": "code",
   "execution_count": null,
   "metadata": {},
   "outputs": [
    {
     "data": {
      "text/plain": [
       "(49395,)"
      ]
     },
     "execution_count": 24,
     "metadata": {},
     "output_type": "execute_result"
    }
   ],
   "source": [
    "df['rate'].shape"
   ]
  },
  {
   "cell_type": "code",
   "execution_count": null,
   "metadata": {},
   "outputs": [],
   "source": [
    "from RestaurantRating.component.data_transformation import DataTransformation\n",
    "train_file_path = r\"C:\\Users\\HPr\\Restaurant_Rating_prediction\\RestaurantRating\\artifact\\data_ingestion\\2023-01-17-20-08-46\\ingested_data\\train\\Zomato_csv.csv\""
   ]
  },
  {
   "cell_type": "code",
   "execution_count": null,
   "metadata": {},
   "outputs": [],
   "source": [
    "from RestaurantRating.util.util import load_data,read_yaml_file\n",
    "schema_file_path=r\"C:\\Users\\HPr\\Restaurant_Rating_prediction\\config\\schema.yaml\""
   ]
  },
  {
   "cell_type": "code",
   "execution_count": null,
   "metadata": {},
   "outputs": [],
   "source": [
    "train_df = load_data(file_path=train_file_path, schema_file_path=schema_file_path)"
   ]
  },
  {
   "cell_type": "code",
   "execution_count": null,
   "metadata": {},
   "outputs": [
    {
     "data": {
      "text/html": [
       "<div>\n",
       "<style scoped>\n",
       "    .dataframe tbody tr th:only-of-type {\n",
       "        vertical-align: middle;\n",
       "    }\n",
       "\n",
       "    .dataframe tbody tr th {\n",
       "        vertical-align: top;\n",
       "    }\n",
       "\n",
       "    .dataframe thead th {\n",
       "        text-align: right;\n",
       "    }\n",
       "</style>\n",
       "<table border=\"1\" class=\"dataframe\">\n",
       "  <thead>\n",
       "    <tr style=\"text-align: right;\">\n",
       "      <th></th>\n",
       "      <th>online_order</th>\n",
       "      <th>book_table</th>\n",
       "      <th>rate</th>\n",
       "      <th>votes</th>\n",
       "      <th>rest_type</th>\n",
       "      <th>cuisines</th>\n",
       "      <th>cost</th>\n",
       "      <th>menu_item</th>\n",
       "      <th>type</th>\n",
       "      <th>city</th>\n",
       "    </tr>\n",
       "  </thead>\n",
       "  <tbody>\n",
       "    <tr>\n",
       "      <th>0</th>\n",
       "      <td>1</td>\n",
       "      <td>1</td>\n",
       "      <td>4.100000</td>\n",
       "      <td>775</td>\n",
       "      <td>27</td>\n",
       "      <td>2091</td>\n",
       "      <td>800.0</td>\n",
       "      <td>8778</td>\n",
       "      <td>0</td>\n",
       "      <td>1</td>\n",
       "    </tr>\n",
       "    <tr>\n",
       "      <th>1</th>\n",
       "      <td>1</td>\n",
       "      <td>0</td>\n",
       "      <td>4.100000</td>\n",
       "      <td>787</td>\n",
       "      <td>27</td>\n",
       "      <td>922</td>\n",
       "      <td>800.0</td>\n",
       "      <td>8778</td>\n",
       "      <td>0</td>\n",
       "      <td>1</td>\n",
       "    </tr>\n",
       "    <tr>\n",
       "      <th>2</th>\n",
       "      <td>1</td>\n",
       "      <td>0</td>\n",
       "      <td>3.800000</td>\n",
       "      <td>918</td>\n",
       "      <td>22</td>\n",
       "      <td>743</td>\n",
       "      <td>800.0</td>\n",
       "      <td>8778</td>\n",
       "      <td>0</td>\n",
       "      <td>1</td>\n",
       "    </tr>\n",
       "    <tr>\n",
       "      <th>3</th>\n",
       "      <td>0</td>\n",
       "      <td>0</td>\n",
       "      <td>3.700000</td>\n",
       "      <td>88</td>\n",
       "      <td>78</td>\n",
       "      <td>2469</td>\n",
       "      <td>300.0</td>\n",
       "      <td>8778</td>\n",
       "      <td>0</td>\n",
       "      <td>1</td>\n",
       "    </tr>\n",
       "    <tr>\n",
       "      <th>4</th>\n",
       "      <td>0</td>\n",
       "      <td>0</td>\n",
       "      <td>3.800000</td>\n",
       "      <td>166</td>\n",
       "      <td>27</td>\n",
       "      <td>2119</td>\n",
       "      <td>600.0</td>\n",
       "      <td>8778</td>\n",
       "      <td>0</td>\n",
       "      <td>1</td>\n",
       "    </tr>\n",
       "    <tr>\n",
       "      <th>...</th>\n",
       "      <td>...</td>\n",
       "      <td>...</td>\n",
       "      <td>...</td>\n",
       "      <td>...</td>\n",
       "      <td>...</td>\n",
       "      <td>...</td>\n",
       "      <td>...</td>\n",
       "      <td>...</td>\n",
       "      <td>...</td>\n",
       "      <td>...</td>\n",
       "    </tr>\n",
       "    <tr>\n",
       "      <th>49390</th>\n",
       "      <td>0</td>\n",
       "      <td>0</td>\n",
       "      <td>3.600000</td>\n",
       "      <td>27</td>\n",
       "      <td>8</td>\n",
       "      <td>977</td>\n",
       "      <td>1500.0</td>\n",
       "      <td>8778</td>\n",
       "      <td>6</td>\n",
       "      <td>29</td>\n",
       "    </tr>\n",
       "    <tr>\n",
       "      <th>49391</th>\n",
       "      <td>0</td>\n",
       "      <td>0</td>\n",
       "      <td>3.700449</td>\n",
       "      <td>0</td>\n",
       "      <td>8</td>\n",
       "      <td>1346</td>\n",
       "      <td>600.0</td>\n",
       "      <td>8778</td>\n",
       "      <td>6</td>\n",
       "      <td>29</td>\n",
       "    </tr>\n",
       "    <tr>\n",
       "      <th>49392</th>\n",
       "      <td>0</td>\n",
       "      <td>0</td>\n",
       "      <td>3.700449</td>\n",
       "      <td>0</td>\n",
       "      <td>8</td>\n",
       "      <td>1346</td>\n",
       "      <td>2000.0</td>\n",
       "      <td>8778</td>\n",
       "      <td>6</td>\n",
       "      <td>29</td>\n",
       "    </tr>\n",
       "    <tr>\n",
       "      <th>49393</th>\n",
       "      <td>0</td>\n",
       "      <td>1</td>\n",
       "      <td>4.300000</td>\n",
       "      <td>236</td>\n",
       "      <td>8</td>\n",
       "      <td>1346</td>\n",
       "      <td>2500.0</td>\n",
       "      <td>8778</td>\n",
       "      <td>6</td>\n",
       "      <td>29</td>\n",
       "    </tr>\n",
       "    <tr>\n",
       "      <th>49394</th>\n",
       "      <td>0</td>\n",
       "      <td>0</td>\n",
       "      <td>3.400000</td>\n",
       "      <td>13</td>\n",
       "      <td>10</td>\n",
       "      <td>1371</td>\n",
       "      <td>1500.0</td>\n",
       "      <td>8778</td>\n",
       "      <td>6</td>\n",
       "      <td>29</td>\n",
       "    </tr>\n",
       "  </tbody>\n",
       "</table>\n",
       "<p>49395 rows × 10 columns</p>\n",
       "</div>"
      ],
      "text/plain": [
       "       online_order  book_table      rate  votes  ...    cost  menu_item  type  city\n",
       "0                 1           1  4.100000    775  ...   800.0       8778     0     1\n",
       "1                 1           0  4.100000    787  ...   800.0       8778     0     1\n",
       "2                 1           0  3.800000    918  ...   800.0       8778     0     1\n",
       "3                 0           0  3.700000     88  ...   300.0       8778     0     1\n",
       "4                 0           0  3.800000    166  ...   600.0       8778     0     1\n",
       "...             ...         ...       ...    ...  ...     ...        ...   ...   ...\n",
       "49390             0           0  3.600000     27  ...  1500.0       8778     6    29\n",
       "49391             0           0  3.700449      0  ...   600.0       8778     6    29\n",
       "49392             0           0  3.700449      0  ...  2000.0       8778     6    29\n",
       "49393             0           1  4.300000    236  ...  2500.0       8778     6    29\n",
       "49394             0           0  3.400000     13  ...  1500.0       8778     6    29\n",
       "\n",
       "[49395 rows x 10 columns]"
      ]
     },
     "execution_count": 7,
     "metadata": {},
     "output_type": "execute_result"
    }
   ],
   "source": [
    "train_df"
   ]
  },
  {
   "cell_type": "code",
   "execution_count": null,
   "metadata": {},
   "outputs": [
    {
     "data": {
      "text/plain": [
       "{'columns': {'online_order': 'object',\n",
       "  'book_table': 'object',\n",
       "  'rate': 'float',\n",
       "  'votes': 'int',\n",
       "  'type': 'object',\n",
       "  'rest_type': 'int',\n",
       "  'cuisines': 'int',\n",
       "  'cost': 'int',\n",
       "  'menu_item': 'object',\n",
       "  'city': 'object'},\n",
       " 'numerical_columns': ['votes', 'cost', 'rest_type'],\n",
       " 'categorical_columns': ['cuisines',\n",
       "  'online_order',\n",
       "  'book_table',\n",
       "  'menu_item',\n",
       "  'city',\n",
       "  'type'],\n",
       " 'target_column': 'rate'}"
      ]
     },
     "execution_count": 9,
     "metadata": {},
     "output_type": "execute_result"
    }
   ],
   "source": [
    "schema = read_yaml_file(file_path=schema_file_path)\n",
    "schema"
   ]
  },
  {
   "cell_type": "code",
   "execution_count": null,
   "metadata": {},
   "outputs": [],
   "source": [
    "from RestaurantRating.constant import *"
   ]
  },
  {
   "cell_type": "code",
   "execution_count": null,
   "metadata": {},
   "outputs": [
    {
     "data": {
      "text/plain": [
       "'rate'"
      ]
     },
     "execution_count": 11,
     "metadata": {},
     "output_type": "execute_result"
    }
   ],
   "source": [
    "target_column_name = schema[TARGET_COLUMN_KEY]\n",
    "target_column_name"
   ]
  },
  {
   "cell_type": "code",
   "execution_count": null,
   "metadata": {},
   "outputs": [
    {
     "data": {
      "text/html": [
       "<div>\n",
       "<style scoped>\n",
       "    .dataframe tbody tr th:only-of-type {\n",
       "        vertical-align: middle;\n",
       "    }\n",
       "\n",
       "    .dataframe tbody tr th {\n",
       "        vertical-align: top;\n",
       "    }\n",
       "\n",
       "    .dataframe thead th {\n",
       "        text-align: right;\n",
       "    }\n",
       "</style>\n",
       "<table border=\"1\" class=\"dataframe\">\n",
       "  <thead>\n",
       "    <tr style=\"text-align: right;\">\n",
       "      <th></th>\n",
       "      <th>online_order</th>\n",
       "      <th>book_table</th>\n",
       "      <th>votes</th>\n",
       "      <th>rest_type</th>\n",
       "      <th>cuisines</th>\n",
       "      <th>cost</th>\n",
       "      <th>menu_item</th>\n",
       "      <th>type</th>\n",
       "      <th>city</th>\n",
       "    </tr>\n",
       "  </thead>\n",
       "  <tbody>\n",
       "    <tr>\n",
       "      <th>0</th>\n",
       "      <td>1</td>\n",
       "      <td>1</td>\n",
       "      <td>775</td>\n",
       "      <td>27</td>\n",
       "      <td>2091</td>\n",
       "      <td>800.0</td>\n",
       "      <td>8778</td>\n",
       "      <td>0</td>\n",
       "      <td>1</td>\n",
       "    </tr>\n",
       "    <tr>\n",
       "      <th>1</th>\n",
       "      <td>1</td>\n",
       "      <td>0</td>\n",
       "      <td>787</td>\n",
       "      <td>27</td>\n",
       "      <td>922</td>\n",
       "      <td>800.0</td>\n",
       "      <td>8778</td>\n",
       "      <td>0</td>\n",
       "      <td>1</td>\n",
       "    </tr>\n",
       "    <tr>\n",
       "      <th>2</th>\n",
       "      <td>1</td>\n",
       "      <td>0</td>\n",
       "      <td>918</td>\n",
       "      <td>22</td>\n",
       "      <td>743</td>\n",
       "      <td>800.0</td>\n",
       "      <td>8778</td>\n",
       "      <td>0</td>\n",
       "      <td>1</td>\n",
       "    </tr>\n",
       "    <tr>\n",
       "      <th>3</th>\n",
       "      <td>0</td>\n",
       "      <td>0</td>\n",
       "      <td>88</td>\n",
       "      <td>78</td>\n",
       "      <td>2469</td>\n",
       "      <td>300.0</td>\n",
       "      <td>8778</td>\n",
       "      <td>0</td>\n",
       "      <td>1</td>\n",
       "    </tr>\n",
       "    <tr>\n",
       "      <th>4</th>\n",
       "      <td>0</td>\n",
       "      <td>0</td>\n",
       "      <td>166</td>\n",
       "      <td>27</td>\n",
       "      <td>2119</td>\n",
       "      <td>600.0</td>\n",
       "      <td>8778</td>\n",
       "      <td>0</td>\n",
       "      <td>1</td>\n",
       "    </tr>\n",
       "    <tr>\n",
       "      <th>...</th>\n",
       "      <td>...</td>\n",
       "      <td>...</td>\n",
       "      <td>...</td>\n",
       "      <td>...</td>\n",
       "      <td>...</td>\n",
       "      <td>...</td>\n",
       "      <td>...</td>\n",
       "      <td>...</td>\n",
       "      <td>...</td>\n",
       "    </tr>\n",
       "    <tr>\n",
       "      <th>49390</th>\n",
       "      <td>0</td>\n",
       "      <td>0</td>\n",
       "      <td>27</td>\n",
       "      <td>8</td>\n",
       "      <td>977</td>\n",
       "      <td>1500.0</td>\n",
       "      <td>8778</td>\n",
       "      <td>6</td>\n",
       "      <td>29</td>\n",
       "    </tr>\n",
       "    <tr>\n",
       "      <th>49391</th>\n",
       "      <td>0</td>\n",
       "      <td>0</td>\n",
       "      <td>0</td>\n",
       "      <td>8</td>\n",
       "      <td>1346</td>\n",
       "      <td>600.0</td>\n",
       "      <td>8778</td>\n",
       "      <td>6</td>\n",
       "      <td>29</td>\n",
       "    </tr>\n",
       "    <tr>\n",
       "      <th>49392</th>\n",
       "      <td>0</td>\n",
       "      <td>0</td>\n",
       "      <td>0</td>\n",
       "      <td>8</td>\n",
       "      <td>1346</td>\n",
       "      <td>2000.0</td>\n",
       "      <td>8778</td>\n",
       "      <td>6</td>\n",
       "      <td>29</td>\n",
       "    </tr>\n",
       "    <tr>\n",
       "      <th>49393</th>\n",
       "      <td>0</td>\n",
       "      <td>1</td>\n",
       "      <td>236</td>\n",
       "      <td>8</td>\n",
       "      <td>1346</td>\n",
       "      <td>2500.0</td>\n",
       "      <td>8778</td>\n",
       "      <td>6</td>\n",
       "      <td>29</td>\n",
       "    </tr>\n",
       "    <tr>\n",
       "      <th>49394</th>\n",
       "      <td>0</td>\n",
       "      <td>0</td>\n",
       "      <td>13</td>\n",
       "      <td>10</td>\n",
       "      <td>1371</td>\n",
       "      <td>1500.0</td>\n",
       "      <td>8778</td>\n",
       "      <td>6</td>\n",
       "      <td>29</td>\n",
       "    </tr>\n",
       "  </tbody>\n",
       "</table>\n",
       "<p>49395 rows × 9 columns</p>\n",
       "</div>"
      ],
      "text/plain": [
       "       online_order  book_table  votes  ...  menu_item  type  city\n",
       "0                 1           1    775  ...       8778     0     1\n",
       "1                 1           0    787  ...       8778     0     1\n",
       "2                 1           0    918  ...       8778     0     1\n",
       "3                 0           0     88  ...       8778     0     1\n",
       "4                 0           0    166  ...       8778     0     1\n",
       "...             ...         ...    ...  ...        ...   ...   ...\n",
       "49390             0           0     27  ...       8778     6    29\n",
       "49391             0           0      0  ...       8778     6    29\n",
       "49392             0           0      0  ...       8778     6    29\n",
       "49393             0           1    236  ...       8778     6    29\n",
       "49394             0           0     13  ...       8778     6    29\n",
       "\n",
       "[49395 rows x 9 columns]"
      ]
     },
     "execution_count": 12,
     "metadata": {},
     "output_type": "execute_result"
    }
   ],
   "source": [
    "input_feature_train_df = train_df.drop(columns=[target_column_name],axis=0)\n",
    "input_feature_train_df"
   ]
  },
  {
   "cell_type": "code",
   "execution_count": null,
   "metadata": {},
   "outputs": [],
   "source": []
  },
  {
   "cell_type": "code",
   "execution_count": null,
   "metadata": {},
   "outputs": [
    {
     "data": {
      "text/plain": [
       "0        4.100000\n",
       "1        4.100000\n",
       "2        3.800000\n",
       "3        3.700000\n",
       "4        3.800000\n",
       "           ...   \n",
       "49390    3.600000\n",
       "49391    3.700449\n",
       "49392    3.700449\n",
       "49393    4.300000\n",
       "49394    3.400000\n",
       "Name: rate, Length: 49395, dtype: float64"
      ]
     },
     "execution_count": 13,
     "metadata": {},
     "output_type": "execute_result"
    }
   ],
   "source": [
    "target_feature_train_df = train_df[target_column_name]\n",
    "target_feature_train_df"
   ]
  },
  {
   "cell_type": "code",
   "execution_count": 37,
   "metadata": {},
   "outputs": [],
   "source": [
    "train_file_path=r\"C:\\Users\\HPr\\Restaurant_Rating_prediction\\RestaurantRating\\artifact\\data_transformation\\2023-01-18-19-48-13\\transformed_data\\train\\Zomato_csv.npz\""
   ]
  },
  {
   "cell_type": "code",
   "execution_count": 46,
   "metadata": {},
   "outputs": [
    {
     "data": {
      "text/plain": [
       "(1, 49396)"
      ]
     },
     "execution_count": 46,
     "metadata": {},
     "output_type": "execute_result"
    }
   ],
   "source": [
    "array_data=load_numpy_array_data(train_file_path)\n",
    "array_data.shape"
   ]
  },
  {
   "cell_type": "code",
   "execution_count": 47,
   "metadata": {},
   "outputs": [],
   "source": [
    "test_file_path=r\"C:\\Users\\HPr\\Restaurant_Rating_prediction\\RestaurantRating\\artifact\\data_transformation\\2023-01-18-19-48-13\\transformed_data\\test\\Zomato_csv.npz\""
   ]
  },
  {
   "cell_type": "code",
   "execution_count": 48,
   "metadata": {},
   "outputs": [],
   "source": [
    "array_test_data=load_numpy_array_data(test_file_path)"
   ]
  },
  {
   "cell_type": "code",
   "execution_count": 49,
   "metadata": {},
   "outputs": [
    {
     "data": {
      "text/plain": [
       "(1, 49396)"
      ]
     },
     "execution_count": 49,
     "metadata": {},
     "output_type": "execute_result"
    }
   ],
   "source": [
    "array_test_data.shape"
   ]
  },
  {
   "cell_type": "code",
   "execution_count": 50,
   "metadata": {},
   "outputs": [],
   "source": [
    "x_train,y_train,x_test,y_test = array_data[:,:-1],array_data[:,-1],array_test_data[:,:-1],array_test_data[:,-1]\n"
   ]
  },
  {
   "cell_type": "code",
   "execution_count": 53,
   "metadata": {},
   "outputs": [
    {
     "data": {
      "text/plain": [
       "(1, 49395)"
      ]
     },
     "execution_count": 53,
     "metadata": {},
     "output_type": "execute_result"
    }
   ],
   "source": [
    "x_train.shape"
   ]
  },
  {
   "cell_type": "code",
   "execution_count": 54,
   "metadata": {},
   "outputs": [
    {
     "data": {
      "text/plain": [
       "(1,)"
      ]
     },
     "execution_count": 54,
     "metadata": {},
     "output_type": "execute_result"
    }
   ],
   "source": [
    "y_train.shape"
   ]
  },
  {
   "cell_type": "code",
   "execution_count": 55,
   "metadata": {},
   "outputs": [
    {
     "data": {
      "text/plain": [
       "array([3.4], dtype=object)"
      ]
     },
     "execution_count": 55,
     "metadata": {},
     "output_type": "execute_result"
    }
   ],
   "source": [
    "y_train"
   ]
  },
  {
   "cell_type": "code",
   "execution_count": 57,
   "metadata": {},
   "outputs": [
    {
     "data": {
      "text/plain": [
       "(1, 49395)"
      ]
     },
     "execution_count": 57,
     "metadata": {},
     "output_type": "execute_result"
    }
   ],
   "source": [
    "x_test.shape"
   ]
  },
  {
   "cell_type": "code",
   "execution_count": 58,
   "metadata": {},
   "outputs": [
    {
     "data": {
      "text/plain": [
       "(1,)"
      ]
     },
     "execution_count": 58,
     "metadata": {},
     "output_type": "execute_result"
    }
   ],
   "source": [
    "y_test.shape"
   ]
  },
  {
   "cell_type": "code",
   "execution_count": 59,
   "metadata": {},
   "outputs": [
    {
     "data": {
      "text/plain": [
       "array([3.4], dtype=object)"
      ]
     },
     "execution_count": 59,
     "metadata": {},
     "output_type": "execute_result"
    }
   ],
   "source": [
    "array_test_data[:,-1]"
   ]
  },
  {
   "cell_type": "code",
   "execution_count": 62,
   "metadata": {},
   "outputs": [
    {
     "data": {
      "text/plain": [
       "(1, 49395)"
      ]
     },
     "execution_count": 62,
     "metadata": {},
     "output_type": "execute_result"
    }
   ],
   "source": [
    "array_test_data[:,:-1].shape"
   ]
  },
  {
   "cell_type": "code",
   "execution_count": null,
   "metadata": {},
   "outputs": [],
   "source": []
  }
 ],
 "metadata": {
  "kernelspec": {
   "display_name": "rest_rating",
   "language": "python",
   "name": "python3"
  },
  "language_info": {
   "codemirror_mode": {
    "name": "ipython",
    "version": 3
   },
   "file_extension": ".py",
   "mimetype": "text/x-python",
   "name": "python",
   "nbconvert_exporter": "python",
   "pygments_lexer": "ipython3",
   "version": "3.7.15"
  },
  "orig_nbformat": 4,
  "vscode": {
   "interpreter": {
    "hash": "f08bd96bd8f4f3b306be554883dd5563ba4f0647b61996583ba6b1fea470c8c1"
   }
  }
 },
 "nbformat": 4,
 "nbformat_minor": 2
}
